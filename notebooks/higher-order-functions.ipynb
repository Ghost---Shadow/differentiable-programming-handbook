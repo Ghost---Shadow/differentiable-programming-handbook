{
 "cells": [
  {
   "cell_type": "markdown",
   "metadata": {},
   "source": "# Differentiable Higher-Order Functions\n\nHigher-order functions are functions that operate on other functions—either by taking them as arguments or by returning them. This notebook explores how to implement differentiable higher-order functions in TensorFlow, enabling gradient-based optimization of function structures themselves.\n\n## What Are Higher-Order Functions?\n\n[Higher-order functions](https://en.wikipedia.org/wiki/Higher-order_function) are fundamental in functional programming and enable:\n- **Function composition**: Building complex functions from simpler ones\n- **Currying**: Converting multi-argument functions into chains of single-argument functions\n- **Function factories**: Generating specialized functions based on parameters\n- **Meta-programming**: Programs that manipulate or generate other programs\n\n## Why Make Them Differentiable?\n\nBy making higher-order functions differentiable, we can:\n- **Learn function structures**: Optimize not just parameters but the function form itself\n- **Automatic function discovery**: Let gradient descent find optimal function architectures\n- **Meta-learning**: Train systems that learn to generate appropriate functions for tasks\n- **Compositional learning**: Build complex behaviors from learned components\n\nThis bridges traditional functional programming with modern neural network optimization."
  },
  {
   "cell_type": "code",
   "execution_count": 1,
   "metadata": {},
   "outputs": [],
   "source": [
    "import tensorflow as tf\n",
    "import numpy as np\n",
    "import matplotlib.pyplot as plt"
   ]
  },
  {
   "cell_type": "markdown",
   "source": "## Setup\n\nLet's import the necessary libraries:",
   "metadata": {}
  },
  {
   "cell_type": "code",
   "execution_count": 2,
   "metadata": {},
   "outputs": [],
   "source": [
    "%matplotlib inline"
   ]
  },
  {
   "cell_type": "code",
   "execution_count": null,
   "metadata": {},
   "outputs": [],
   "source": "## Curried Functions: Building Specialized Functions\n\n[Currying](https://stackoverflow.com/questions/36314/what-is-currying) is a technique of converting a function with multiple arguments into a sequence of functions, each with a single argument.\n\n### Mathematical Concept\n\nInstead of: $f(x_1, x_2) = x_1 \\times x_2$\n\nWe create: $g(x_1) = h$ where $h(x_2) = x_1 \\times x_2$\n\n### Differentiability Considerations\n\n**Key insight**: TensorFlow 2.x has limitations with `@tf.function` on functions that don't return tensors. Therefore:\n- **Outer function** (the generator): Executes eagerly\n- **Inner function** (the returned function): Executes in graph mode with full differentiability\n\nThis hybrid approach maintains gradient flow while working within TensorFlow's constraints.\n\n### Benefits\n\n- **Partial application**: Fix some arguments while keeping others variable\n- **Function specialization**: Create optimized versions for specific use cases\n- **Composable design**: Build complex functions from simpler curried components"
  },
  {
   "cell_type": "markdown",
   "metadata": {},
   "source": "## Simple Example of a curried function\n\n[StackOverflow Example](https://stackoverflow.com/questions/36314/what-is-currying)\n\nWe take two variables $x1$ and $x2$ and multiply them together. We can see that tensorflow is able to compute the gradient with respect both these variables.\n\nNote: Tensorflow 2.1.0 does not support `@tf.function` for functions that do not return a tensor. This may change in future. So, the outer function is executed eagerly, while the inner function is in graph mode."
  },
  {
   "cell_type": "markdown",
   "source": "### Implementing a Curried Function\n\nThe `curried_generator` demonstrates the basic pattern:",
   "metadata": {}
  },
  {
   "cell_type": "markdown",
   "source": "## Learnable Polynomial Functions\n\nNow let's explore a more sophisticated example: **learning polynomial functions**. We'll create a higher-order function that generates polynomials based on learnable parameters.\n\n### Polynomial Representation\n\nWe encode polynomials using a coefficient-exponent matrix representation:\n\n**Example**: $f(x) = 4x^2 + 3x^3 + 2x^5$\n\n$$\\text{definition} = \\begin{bmatrix}\n\\text{coefficient} & \\text{exponent} \\\\\n4.0 & 2.0 \\\\\n3.0 & 3.0 \\\\\n2.0 & 5.0\n\\end{bmatrix}$$\n\n### Advantages of This Representation\n\n1. **Flexible structure**: Can represent polynomials of any degree\n2. **Learnable parameters**: Both coefficients and exponents can be optimized\n3. **Compositional**: Easy to add/remove terms during learning\n4. **Differentiable**: All operations preserve gradient flow\n\nThis enables **automatic function discovery** where the system learns not just the coefficients but the entire polynomial structure!",
   "metadata": {}
  },
  {
   "cell_type": "code",
   "execution_count": 4,
   "metadata": {},
   "outputs": [],
   "source": [
    "def curried_generator(x1):\n",
    "    @tf.function\n",
    "    def inner(x2):\n",
    "        return x1 * x2\n",
    "    return inner"
   ]
  },
  {
   "cell_type": "markdown",
   "source": "### Polynomial Generator Implementation\n\nThe `polynomial_generator` creates a differentiable function from a parameter matrix:",
   "metadata": {}
  },
  {
   "cell_type": "markdown",
   "source": "### Testing Gradient Flow\n\nLet's verify that gradients flow through both the input variables and the function definition:\n\nThe polynomial $f(x) = 2x + 3x^2 + x^4$ evaluated at $x = [1,2,3]$ produces gradients showing:\n- **w.r.t. x**: The derivative of the polynomial at each point\n- **w.r.t. definition**: How changing coefficients/exponents affects the output\n\nThis dual differentiability is crucial for learning function structures!",
   "metadata": {}
  },
  {
   "cell_type": "markdown",
   "source": "## Polynomial Learning Experiment\n\nLet's demonstrate **automatic function discovery** by training a system to learn a target polynomial from data alone.\n\n### Target Function\n\nWe'll generate training data from the polynomial:\n$$f(x) = 2x - 3x^2 + x^4$$\n\nThe challenge: Can our system discover this exact functional form by observing input-output pairs?\n\n### Experimental Setup\n\n1. **Ground truth**: Generate data from the known polynomial\n2. **Unknown model**: Initialize with random coefficients and exponents  \n3. **Learning objective**: Minimize prediction error on the data\n4. **Discovery**: Let gradient descent find the optimal function structure",
   "metadata": {}
  },
  {
   "cell_type": "code",
   "execution_count": 5,
   "metadata": {},
   "outputs": [
    {
     "name": "stdout",
     "output_type": "stream",
     "text": [
      "<tensorflow.python.eager.def_function.Function object at 0x00000220F00CE908>\n",
      "tf.Tensor([1. 2. 3.], shape=(3,), dtype=float32)\n",
      "tf.Tensor([2. 2. 2.], shape=(3,), dtype=float32)\n"
     ]
    }
   ],
   "source": [
    "x1 = tf.Variable([2,2,2], dtype=tf.float32)\n",
    "x2 = tf.Variable([1,2,3], dtype=tf.float32)\n",
    "\n",
    "with tf.GradientTape(persistent=True) as tape:\n",
    "    eqn = curried_generator(x1)\n",
    "    z = eqn(x2)\n",
    "    \n",
    "print(eqn)\n",
    "print(tape.gradient(z, x1))\n",
    "print(tape.gradient(z, x2))"
   ]
  },
  {
   "cell_type": "markdown",
   "source": "### Ground Truth Function\n\nLet's define and visualize our target polynomial:",
   "metadata": {}
  },
  {
   "cell_type": "markdown",
   "source": "## Training the Function Discovery System\n\nNow we initialize a learnable polynomial with random parameters and train it to fit our target function.\n\n### Training Process\n\n1. **Random initialization**: Start with completely random coefficients and exponents\n2. **Function generation**: Create a polynomial function from current parameters\n3. **Prediction**: Evaluate the generated function on training inputs\n4. **Loss computation**: Compare predictions with ground truth using L2 loss\n5. **Optimization**: Update parameters using Adam optimizer\n6. **Iteration**: Repeat until convergence\n\n### Key Innovation\n\nUnlike traditional polynomial fitting (which only learns coefficients), our system learns **both coefficients and exponents**, enabling discovery of the complete functional form!",
   "metadata": {}
  },
  {
   "cell_type": "markdown",
   "metadata": {},
   "source": "## Polynomial Regression\n\nBelow is an example of a generator function, which takes a function definition as an argument and returns a function which has the same tensorflow graph as the polynomial. \n\nThe equation is encoded as follows\n\n$$\nequation = 4x^2 + 3x ^ 3 + 2x ^ 5\n$$\n\n\\begin{equation*}\ndefinition = \n\\begin{bmatrix}\nconstant & exponent \\\\\n4.0 & 2.0 \\\\\n3.0 & 3.0 \\\\\n2.0 & 5.0 \\\\\n\\end{bmatrix}\\end{equation*}"
  },
  {
   "cell_type": "markdown",
   "source": "### Training Implementation\n\nThe training step demonstrates the complete learning pipeline:",
   "metadata": {}
  },
  {
   "cell_type": "markdown",
   "source": "## Results: Successful Function Discovery\n\nThe learning system has successfully discovered a function that closely approximates our target polynomial!",
   "metadata": {}
  },
  {
   "cell_type": "code",
   "execution_count": 6,
   "metadata": {},
   "outputs": [],
   "source": [
    "def polynomial_generator(definition):\n",
    "    definition = tf.unstack(definition)\n",
    "    \n",
    "    @tf.function\n",
    "    def inner(x):\n",
    "        result = 0.0\n",
    "        for term in definition:\n",
    "            constant = term[0]\n",
    "            exponent = term[1]\n",
    "            result += constant * tf.pow(x, exponent)\n",
    "        return result\n",
    "    return inner"
   ]
  },
  {
   "cell_type": "markdown",
   "source": "### Visual Comparison\n\nThe plot shows remarkable agreement between the fitted (red dashed) and actual (blue dotted) functions, demonstrating successful function discovery.",
   "metadata": {}
  },
  {
   "cell_type": "markdown",
   "source": "### Function Form Comparison\n\n**Original target**: `+ 2.00 * x ^ 1.00  -3.00 * x ^ 2.00 + 1.00 * x ^ 4.00`  \n**Learned function**: `+ 1.10 * x ^ 0.74 + 0.59 * x ^ 4.63  -1.68 * x ^ 2.15`\n\n### Key Insights\n\n1. **Alternative representation**: The system found a different polynomial that produces nearly identical outputs\n2. **Functional equivalence**: Despite different parameters, both functions approximate the same curve\n3. **Creative solution**: The learner discovered that $1.10x^{0.74} + 0.59x^{4.63} - 1.68x^{2.15}$ behaves similarly to $2x - 3x^2 + x^4$ in the training domain\n\nThis demonstrates the power of differentiable higher-order functions: the system can discover novel functional forms that achieve the desired behavior!\n\n## Summary\n\nWe successfully implemented differentiable higher-order functions that enable:\n\n### Key Achievements\n\n- ✅ **Curried functions**: Maintained differentiability across function closures\n- ✅ **Function generators**: Created parametric function families\n- ✅ **Automatic discovery**: Learned both coefficients and exponents simultaneously  \n- ✅ **Alternative forms**: Found equivalent representations of target functions\n\n### Applications\n\nThis framework enables:\n- **Neural architecture search**: Learning optimal network structures\n- **Symbolic regression**: Discovering mathematical relationships in data\n- **Meta-learning**: Functions that learn to generate other functions\n- **Compositional AI**: Building complex behaviors from learned components\n\nDifferentiable higher-order functions represent a powerful bridge between traditional functional programming and modern deep learning, enabling systems that can discover and optimize their own computational structures.",
   "metadata": {}
  },
  {
   "cell_type": "code",
   "execution_count": 7,
   "metadata": {},
   "outputs": [
    {
     "name": "stdout",
     "output_type": "stream",
     "text": [
      "tf.Tensor([ 12.  46. 128.], shape=(3,), dtype=float32)\n",
      "tf.Tensor(\n",
      "[[  6.         9.364263]\n",
      " [ 14.        37.9803  ]\n",
      " [ 98.       100.07795 ]], shape=(3, 2), dtype=float32)\n"
     ]
    }
   ],
   "source": [
    "definition = tf.Variable([\n",
    "    [2.0, 1.0],\n",
    "    [3.0, 2.0],\n",
    "    [1.0, 4.0]\n",
    "], dtype=tf.float32) # 2 * x + 3 * x ^ 2 + 1 * x ^ 4\n",
    "x = tf.Variable([1,2,3], dtype=tf.float32)\n",
    "\n",
    "with tf.GradientTape(persistent=True) as tape:\n",
    "    eqn = polynomial_generator(definition)\n",
    "    z = eqn(x)\n",
    "    \n",
    "print(tape.gradient(z, x))\n",
    "print(tape.gradient(z, definition))"
   ]
  },
  {
   "cell_type": "code",
   "execution_count": 8,
   "metadata": {},
   "outputs": [
    {
     "name": "stdout",
     "output_type": "stream",
     "text": [
      "[[2 1]\n",
      " [3 2]\n",
      " [1 4]]\r\n"
     ]
    },
    {
     "data": {
      "text/plain": [
       "'+ 2.00 * x ^ 1.00 + 3.00 * x ^ 2.00 + 1.00 * x ^ 4.00 '"
      ]
     },
     "execution_count": 8,
     "metadata": {},
     "output_type": "execute_result"
    }
   ],
   "source": [
    "def pretty_print_definition(definition):\n",
    "    definition = tf.unstack(definition)\n",
    "    result = ''\n",
    "    template = \"{} {:.2f} * x ^ {:.2f} \"\n",
    "    for term in definition:\n",
    "        constant = np.round(term[0].numpy(), 2)\n",
    "        exponent = np.round(term[1].numpy(), 2)\n",
    "        sign_separator = '+' if constant >= 0 else ''\n",
    "        result += template.format(sign_separator, constant, exponent)\n",
    "    return result\n",
    "tf.print(definition)\n",
    "pretty_print_definition(definition)"
   ]
  },
  {
   "cell_type": "markdown",
   "metadata": {},
   "source": "### Generating data\n\nTo illustrate that the model can learn to fit a polynomial, we generate data for ground truth.\n\nWe sample $100$ points uniformly between $0.0$ and $1.5$ for the equation below.\n\n$$\nequation = 2x - 3x ^ 2 + x ^ 4\n$$"
  },
  {
   "cell_type": "code",
   "execution_count": 9,
   "metadata": {},
   "outputs": [
    {
     "data": {
      "text/plain": [
       "'+ 2.00 * x ^ 1.00  -3.00 * x ^ 2.00 + 1.00 * x ^ 4.00 '"
      ]
     },
     "execution_count": 9,
     "metadata": {},
     "output_type": "execute_result"
    }
   ],
   "source": [
    "definition = tf.Variable([\n",
    "    [2.0, 1.0],\n",
    "    [-3.0, 2.0],\n",
    "    [1.0, 4.0]\n",
    "], dtype=tf.float32) # 2 * x - 3 * x ^ 2 + 1 * x ^ 4\n",
    "original_definition = definition # Take a backup\n",
    "pretty_print_definition(definition)"
   ]
  },
  {
   "cell_type": "code",
   "execution_count": 10,
   "metadata": {},
   "outputs": [
    {
     "data": {
      "image/png": "[encoded data removed]",
      "text/plain": [
       "<Figure size 432x288 with 1 Axes>"
      ]
     },
     "metadata": {
      "needs_background": "light"
     },
     "output_type": "display_data"
    }
   ],
   "source": [
    "eqn = polynomial_generator(definition)\n",
    "xs = tf.random.uniform((100,), dtype=tf.float32) * 1.5\n",
    "ys = eqn(xs)\n",
    "\n",
    "s_xs = tf.sort(xs)\n",
    "s_ys = eqn(s_xs)\n",
    "plt.plot(s_xs, s_ys)\n",
    "plt.show()"
   ]
  },
  {
   "cell_type": "markdown",
   "metadata": {},
   "source": "### Training\n\nFor training, we initialize a new function definition with uniform random variables.\n\nThe loss is the L2 loss between the predicted $y$ and the ground truth $y$"
  },
  {
   "cell_type": "code",
   "execution_count": 11,
   "metadata": {},
   "outputs": [],
   "source": [
    "opt = tf.keras.optimizers.Adam()\n",
    "\n",
    "definition = tf.Variable(tf.random.uniform((3, 2)), dtype=tf.float32)\n",
    "\n",
    "@tf.function\n",
    "def train_step():\n",
    "    with tf.GradientTape() as tape:\n",
    "        eqn = polynomial_generator(definition) # Generate a new equation with updated definition\n",
    "        ys_ = eqn(xs) # Predict new y\n",
    "        loss = tf.nn.l2_loss(ys - ys_) # Find loss\n",
    "    grads = tape.gradient(loss, definition)\n",
    "    opt.apply_gradients(zip([grads], [definition])) # Update the polynomial definition\n",
    "    del eqn # Free memory\n",
    "    return loss"
   ]
  },
  {
   "cell_type": "code",
   "execution_count": 12,
   "metadata": {},
   "outputs": [
    {
     "name": "stdout",
     "output_type": "stream",
     "text": [
      "8.33185 13.3747196\n",
      "2.39628935 14.0850811\n",
      "1.60698581 12.3505411\n",
      "0.537338912 12.8752937\n",
      "0.0742688552 14.2031412\n",
      "0.0259165019 14.7807331\n",
      "0.0182985067 14.9476681\n",
      "0.0137615316 15.1220484\n",
      "0.0105026718 15.2986126\n",
      "0.00782978907 15.4724398\n"
     ]
    }
   ],
   "source": [
    "for i in range(10000):\n",
    "    loss = train_step()\n",
    "    if i % 1000 == 0:\n",
    "        equation_deviation = tf.nn.l2_loss(definition - original_definition)\n",
    "        tf.print(loss, equation_deviation)"
   ]
  },
  {
   "cell_type": "markdown",
   "metadata": {},
   "source": [
    "### Results\n",
    "\n",
    "The generated equation varies between runs but it resembles the ground truth equation, closely."
   ]
  },
  {
   "cell_type": "code",
   "execution_count": 13,
   "metadata": {},
   "outputs": [
    {
     "data": {
      "image/png": "[encoded data removed]",
      "text/plain": [
       "<Figure size 432x288 with 1 Axes>"
      ]
     },
     "metadata": {
      "needs_background": "light"
     },
     "output_type": "display_data"
    }
   ],
   "source": [
    "eqn = polynomial_generator(definition)\n",
    "ns_ys = eqn(s_xs)\n",
    "plt.plot(s_xs, ns_ys, color='red',linestyle='--', label='fitted')\n",
    "plt.plot(s_xs, s_ys, color='blue',linestyle='dotted', label='actual')\n",
    "plt.legend()\n",
    "plt.show()"
   ]
  },
  {
   "cell_type": "code",
   "execution_count": 14,
   "metadata": {},
   "outputs": [
    {
     "name": "stdout",
     "output_type": "stream",
     "text": [
      "+ 2.00 * x ^ 1.00  -3.00 * x ^ 2.00 + 1.00 * x ^ 4.00 \n",
      "+ 1.10 * x ^ 0.74 + 0.59 * x ^ 4.63  -1.68 * x ^ 2.15 \n"
     ]
    }
   ],
   "source": [
    "print(pretty_print_definition(original_definition))\n",
    "print(pretty_print_definition(definition))"
   ]
  },
  {
   "cell_type": "code",
   "execution_count": null,
   "metadata": {},
   "outputs": [],
   "source": []
  }
 ],
 "metadata": {
  "kernelspec": {
   "display_name": "Python 3",
   "language": "python",
   "name": "python3"
  },
  "language_info": {
   "codemirror_mode": {
    "name": "ipython",
    "version": 3
   },
   "file_extension": ".py",
   "mimetype": "text/x-python",
   "name": "python",
   "nbconvert_exporter": "python",
   "pygments_lexer": "ipython3",
   "version": "3.7.6"
  }
 },
 "nbformat": 4,
 "nbformat_minor": 4
}
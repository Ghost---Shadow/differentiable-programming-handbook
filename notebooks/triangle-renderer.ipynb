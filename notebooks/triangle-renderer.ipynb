{
 "cells": [
  {
   "cell_type": "code",
   "execution_count": 1,
   "metadata": {},
   "outputs": [],
   "source": [
    "import numpy as np\n",
    "import matplotlib.pyplot as plt\n",
    "import tensorflow as tf\n",
    "%matplotlib inline"
   ]
  },
  {
   "cell_type": "code",
   "execution_count": 2,
   "metadata": {},
   "outputs": [
    {
     "data": {
      "text/plain": [
       "[PhysicalDevice(name='/physical_device:GPU:0', device_type='GPU')]"
      ]
     },
     "execution_count": 2,
     "metadata": {},
     "output_type": "execute_result"
    }
   ],
   "source": [
    "tf.config.list_physical_devices('GPU')"
   ]
  },
  {
   "cell_type": "code",
   "execution_count": 3,
   "metadata": {},
   "outputs": [
    {
     "data": {
      "image/png": "[encoded data removed]",
      "text/plain": [
       "<Figure size 432x288 with 1 Axes>"
      ]
     },
     "metadata": {
      "needs_background": "light"
     },
     "output_type": "display_data"
    }
   ],
   "source": [
    "canvas = np.zeros((100,100))\n",
    "plt.imshow(canvas, interpolation='none')\n",
    "plt.show()"
   ]
  },
  {
   "cell_type": "code",
   "execution_count": 4,
   "metadata": {},
   "outputs": [
    {
     "data": {
      "image/png": "[encoded data removed]",
      "text/plain": [
       "<Figure size 432x288 with 1 Axes>"
      ]
     },
     "metadata": {
      "needs_background": "light"
     },
     "output_type": "display_data"
    }
   ],
   "source": [
    "def draw_triangle(canvas, p1, p2, p3):\n",
    "  '''\n",
    "  http://www.sunshine2k.de/coding/java/TriangleRasterization/TriangleRasterization.html\n",
    "  '''\n",
    "  vs1 = p2 - p1\n",
    "  vs2 = p3 - p1\n",
    "\n",
    "  vs1_x_vs2 =  np.cross(vs1, vs2)\n",
    "\n",
    "  stacked = np.stack([p1,p2,p3], axis=0)\n",
    "  min_x, min_y = np.min(stacked, axis=0)\n",
    "  max_x, max_y = np.max(stacked, axis=0)\n",
    "\n",
    "  for x in range(min_x, max_x):\n",
    "    for y in range(min_y, max_y):\n",
    "      q = np.array([x, y]) - p1\n",
    "      s = np.cross(q, vs2) /vs1_x_vs2\n",
    "      t = np.cross(vs1, q) /vs1_x_vs2\n",
    "\n",
    "      if s >= 0 and t >= 0 and s + t <=1:\n",
    "        canvas[x][y] = 1\n",
    "\n",
    "  return canvas\n",
    "\n",
    "p1 = np.array([20,25], dtype=np.int32)\n",
    "p2 = np.array([80,10], dtype=np.int32)\n",
    "p3 = np.array([10,70], dtype=np.int32)\n",
    "\n",
    "canvas = draw_triangle(canvas, p1, p2, p3)\n",
    "plt.imshow(canvas, interpolation='none')\n",
    "plt.show()"
   ]
  },
  {
   "cell_type": "code",
   "execution_count": 5,
   "metadata": {},
   "outputs": [
    {
     "data": {
      "image/png": "[encoded data removed]",
      "text/plain": [
       "<Figure size 432x288 with 1 Axes>"
      ]
     },
     "metadata": {
      "needs_background": "light"
     },
     "output_type": "display_data"
    }
   ],
   "source": [
    "def draw_triangle(canvas, p1, p2, p3):\n",
    "  '''\n",
    "  http://www.sunshine2k.de/coding/java/TriangleRasterization/TriangleRasterization.html\n",
    "  '''\n",
    "  vs1 = p2 - p1\n",
    "  vs2 = p3 - p1\n",
    "\n",
    "  vs1_x_vs2 =  np.cross(vs1, vs2)\n",
    "\n",
    "  xs = np.arange(canvas.shape[0])\n",
    "  ys = np.arange(canvas.shape[1])\n",
    "\n",
    "  xs_tiled = np.tile(np.expand_dims(xs, 1), [1, ys.shape[0]])\n",
    "  xs_tiled = np.expand_dims(xs_tiled, 2)\n",
    "  ys_tiled = np.tile(np.expand_dims(ys, 0), [xs.shape[0], 1])\n",
    "  ys_tiled = np.expand_dims(ys_tiled, 2)\n",
    "  cartesian_product = np.concatenate([xs_tiled, ys_tiled], axis=2)\n",
    "\n",
    "  q = cartesian_product - p1\n",
    "\n",
    "  vs1 = np.tile(vs1, [xs.shape[0], ys.shape[0], 1])\n",
    "  vs2 = np.tile(vs2, [xs.shape[0], ys.shape[0], 1])\n",
    "\n",
    "  s = np.cross(q, vs2, axis=-1) / vs1_x_vs2\n",
    "  t = np.cross(vs1, q, axis=-1) / vs1_x_vs2\n",
    "\n",
    "  sg0 = s >= 0\n",
    "  tg0 = t >= 0\n",
    "  stl1 = s + t <= 1\n",
    "  canvas = sg0 * tg0 * stl1\n",
    "\n",
    "  return canvas\n",
    "\n",
    "p1 = np.array([20,25], dtype=np.float32)\n",
    "p2 = np.array([80,10], dtype=np.float32)\n",
    "p3 = np.array([10,70], dtype=np.float32)\n",
    "canvas = np.zeros((100,100), dtype=np.float32)\n",
    "canvas = draw_triangle(canvas, p1, p2, p3)\n",
    "plt.imshow(canvas, interpolation='none')\n",
    "plt.show()"
   ]
  },
  {
   "cell_type": "code",
   "execution_count": 6,
   "metadata": {},
   "outputs": [
    {
     "data": {
      "image/png": "[encoded data removed]",
      "text/plain": [
       "<Figure size 432x288 with 1 Axes>"
      ]
     },
     "metadata": {
      "needs_background": "light"
     },
     "output_type": "display_data"
    }
   ],
   "source": [
    "@tf.function\n",
    "def draw_triangle(canvas, p1, p2, p3):\n",
    "  '''\n",
    "  http://www.sunshine2k.de/coding/java/TriangleRasterization/TriangleRasterization.html\n",
    "  '''\n",
    "  a_zero = tf.constant([0], dtype=tf.float32)\n",
    "  p1 = tf.concat([p1, a_zero], axis=0)\n",
    "  p2 = tf.concat([p2, a_zero], axis=0)\n",
    "  p3 = tf.concat([p3, a_zero], axis=0)\n",
    "\n",
    "  vs1 = p2 - p1\n",
    "  vs2 = p3 - p1\n",
    "\n",
    "  vs1_x_vs2 = tf.linalg.cross(vs1, vs2)\n",
    "  vs1_x_vs2 = tf.reduce_sum(vs1_x_vs2)\n",
    "\n",
    "  xs = tf.range(canvas.shape[0])\n",
    "  ys = tf.range(canvas.shape[1])\n",
    "\n",
    "  xs_tiled = tf.tile(tf.expand_dims(xs, 1), [1, ys.shape[0]])\n",
    "  xs_tiled = tf.expand_dims(xs_tiled, 2)\n",
    "  ys_tiled = tf.tile(tf.expand_dims(ys, 0), [xs.shape[0], 1])\n",
    "  ys_tiled = tf.expand_dims(ys_tiled, 2)\n",
    "  zeros = tf.zeros([xs.shape[0], ys.shape[0], 1], dtype=tf.int32)\n",
    "  cartesian_product = tf.concat([xs_tiled, ys_tiled, zeros], axis=2)\n",
    "  cartesian_product = tf.cast(cartesian_product, dtype=tf.float32)\n",
    "\n",
    "  q = cartesian_product - p1\n",
    "\n",
    "  vs1 = tf.reshape(vs1, [1,1,3])\n",
    "  vs1 = tf.tile(vs1, [xs.shape[0], ys.shape[0], 1])\n",
    "  vs2 = tf.reshape(vs2, [1,1,3])\n",
    "  vs2 = tf.tile(vs2, [xs.shape[0], ys.shape[0], 1])\n",
    "\n",
    "  s = tf.reduce_sum(tf.linalg.cross(q, vs2), axis=-1) / vs1_x_vs2\n",
    "  t = tf.reduce_sum(tf.linalg.cross(vs1, q), axis=-1) / vs1_x_vs2\n",
    "\n",
    "  sg0 = tf.nn.relu(s) # s >= 0\n",
    "  tg0 = tf.nn.relu(t) # t >= 0\n",
    "  stl1 = tf.nn.relu(-(s + t - 1)) # s + t <= 1\n",
    "  result = sg0 * tg0 * stl1\n",
    "\n",
    "  return result\n",
    "\n",
    "p1 = tf.constant([20,25], dtype=tf.float32)\n",
    "p2 = tf.constant([80,10], dtype=tf.float32)\n",
    "p3 = tf.constant([10,70], dtype=tf.float32)\n",
    "canvas = tf.zeros((100,100), dtype=tf.float32)\n",
    "canvas = draw_triangle(canvas, p1, p2, p3)\n",
    "plt.imshow(canvas, interpolation='none')\n",
    "plt.show()"
   ]
  },
  {
   "cell_type": "code",
   "execution_count": 7,
   "metadata": {},
   "outputs": [
    {
     "data": {
      "image/png": "[encoded data removed]",
      "text/plain": [
       "<Figure size 432x288 with 1 Axes>"
      ]
     },
     "metadata": {
      "needs_background": "light"
     },
     "output_type": "display_data"
    }
   ],
   "source": [
    "p1 = tf.constant([50,25], dtype=tf.float32)\n",
    "p2 = tf.constant([80,10], dtype=tf.float32)\n",
    "p3 = tf.constant([50,70], dtype=tf.float32)\n",
    "target_canvas = tf.zeros((100,100), dtype=tf.float32)\n",
    "target_canvas = draw_triangle(target_canvas, p1, p2, p3)\n",
    "plt.imshow(target_canvas, interpolation='none')\n",
    "plt.show()"
   ]
  },
  {
   "cell_type": "code",
   "execution_count": 8,
   "metadata": {},
   "outputs": [
    {
     "name": "stdout",
     "output_type": "stream",
     "text": [
      "tf.Tensor([-0.00622854 -0.0071758 ], shape=(2,), dtype=float32) tf.Tensor([ 0.00106911 -0.00237593], shape=(2,), dtype=float32) tf.Tensor([0.00026887 0.00469822], shape=(2,), dtype=float32)\n"
     ]
    }
   ],
   "source": [
    "p1 = tf.Variable([20,25], dtype=tf.float32)\n",
    "p2 = tf.Variable([80,10], dtype=tf.float32)\n",
    "p3 = tf.Variable([10,70], dtype=tf.float32)\n",
    "canvas = tf.Variable(tf.zeros((100,100), dtype=tf.float32))\n",
    "with tf.GradientTape(persistent=True) as tape:\n",
    "  canvas = draw_triangle(canvas, p1, p2, p3)\n",
    "  loss = tf.nn.l2_loss(target_canvas - canvas)\n",
    "\n",
    "dp1 = tape.gradient(loss, p1)\n",
    "dp2 = tape.gradient(loss, p2)\n",
    "dp3 = tape.gradient(loss, p3)\n",
    "print(dp1, dp2, dp3)"
   ]
  },
  {
   "cell_type": "code",
   "execution_count": 26,
   "metadata": {},
   "outputs": [
    {
     "name": "stdout",
     "output_type": "stream",
     "text": [
      "0 0.371361732 1249.98242\n",
      "1000 0.359530777 1233.05835\n",
      "2000 0.347886205 1217.64404\n",
      "3000 0.336413354 1203.8031\n",
      "4000 0.325104773 1191.36743\n",
      "5000 0.313959807 1180.32397\n",
      "6000 0.302987427 1170.85498\n",
      "7000 0.292196065 1162.77124\n",
      "8000 0.28159976 1156.00879\n",
      "9000 0.271241099 1150.59741\n",
      "[20 25] [25.93 32.14] [50 25]\n",
      "[20 25] [79.71 12.24] [80 10]\n",
      "[20 25] [9.5199995 65.71] [50 70]\n"
     ]
    }
   ],
   "source": [
    "tp1 = tf.constant([50,25], dtype=tf.float32)\n",
    "tp2 = tf.constant([80,10], dtype=tf.float32)\n",
    "tp3 = tf.constant([50,70], dtype=tf.float32)\n",
    "target_canvas = tf.zeros((100,100), dtype=tf.float32)\n",
    "target_canvas = draw_triangle(target_canvas, tp1, tp2, tp3)\n",
    "\n",
    "p1 = tf.Variable([20,25], dtype=tf.float32)\n",
    "p2 = tf.Variable([80,10], dtype=tf.float32)\n",
    "p3 = tf.Variable([10,70], dtype=tf.float32)\n",
    "sp1, sp2, sp3 = tf.constant(p1), tf.constant(p2), tf.constant(p3)\n",
    "canvas = tf.Variable(tf.zeros((100,100), dtype=tf.float32))\n",
    "\n",
    "# opt = tf.keras.optimizers.Adam(learning_rate=3e-4)\n",
    "# opt = tf.keras.optimizers.Adam(learning_rate=1e-1)\n",
    "opt = tf.keras.optimizers.SGD(learning_rate=1e-1)\n",
    "\n",
    "def actual_loss():\n",
    "  dp1 = tf.nn.l2_loss(p1 - tp1)\n",
    "  dp2 = tf.nn.l2_loss(p2 - tp2)\n",
    "  dp3 = tf.nn.l2_loss(p3 - tp3)\n",
    "\n",
    "  # return (dp1 + dp2 + dp3) / 1e+6\n",
    "  return (dp1 + dp2 + dp3)\n",
    "\n",
    "@tf.function\n",
    "def train_step():\n",
    "  with tf.GradientTape() as tape:\n",
    "    c = draw_triangle(canvas, p1, p2, p3)\n",
    "    loss = tf.nn.l2_loss(target_canvas - c)\n",
    "  g1, g2, g3 = tape.gradient(loss, [p1, p2, p3])\n",
    "  opt.apply_gradients(zip([g1,g2,g3], [p1,p2,p3]))\n",
    "\n",
    "  return loss\n",
    "\n",
    "@tf.function\n",
    "def float_pretty(t):\n",
    "  t = t * 100\n",
    "  t = tf.round(t)\n",
    "  t = t / 100\n",
    "  return t\n",
    "\n",
    "for i in range(10000):\n",
    "  loss = train_step()\n",
    "  if i % 1000 == 0:\n",
    "    tf.print(i, loss, actual_loss())\n",
    "\n",
    "tf.print(float_pretty(sp1), float_pretty(p1), float_pretty(tp1))\n",
    "tf.print(float_pretty(sp1), float_pretty(p2), float_pretty(tp2))\n",
    "tf.print(float_pretty(sp1), float_pretty(p3), float_pretty(tp3))"
   ]
  },
  {
   "cell_type": "code",
   "execution_count": 30,
   "metadata": {},
   "outputs": [
    {
     "data": {
      "image/png": "[encoded data removed]",
      "text/plain": [
       "<Figure size 432x288 with 1 Axes>"
      ]
     },
     "metadata": {
      "needs_background": "light"
     },
     "output_type": "display_data"
    }
   ],
   "source": [
    "start_canvas = tf.zeros((100,100), dtype=tf.float32)\n",
    "start_canvas = draw_triangle(start_canvas, sp1, sp2, sp3)\n",
    "\n",
    "current_canvas = tf.zeros((100,100), dtype=tf.float32)\n",
    "current_canvas = draw_triangle(current_canvas, p1, p2, p3)\n",
    "\n",
    "target_canvas = tf.zeros((100,100), dtype=tf.float32)\n",
    "target_canvas = draw_triangle(target_canvas, tp1, tp2, tp3)\n",
    "\n",
    "stacked = np.hstack([start_canvas.numpy(), current_canvas.numpy(), target_canvas.numpy()])\n",
    "plt.imshow(stacked, interpolation='none')\n",
    "plt.show()"
   ]
  },
  {
   "cell_type": "code",
   "execution_count": null,
   "metadata": {},
   "outputs": [],
   "source": []
  }
 ],
 "metadata": {
  "interpreter": {
   "hash": "e2fe167f8ebb6270478c92147a6f17a6f2a16ae487391713010af5cd6434a916"
  },
  "kernelspec": {
   "display_name": "Python 3.8.5",
   "language": "python",
   "name": "python3"
  },
  "language_info": {
   "codemirror_mode": {
    "name": "ipython",
    "version": 3
   },
   "file_extension": ".py",
   "mimetype": "text/x-python",
   "name": "python",
   "nbconvert_exporter": "python",
   "pygments_lexer": "ipython3",
   "version": "3.8.5"
  },
  "orig_nbformat": 4
 },
 "nbformat": 4,
 "nbformat_minor": 2
}

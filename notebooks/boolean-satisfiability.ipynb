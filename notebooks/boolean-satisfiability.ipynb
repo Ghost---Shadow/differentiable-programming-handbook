{
 "cells": [
  {
   "cell_type": "markdown",
   "metadata": {},
   "source": [
    "# Differentiable Boolean Satisfiability\n",
    "\n",
    "Differentiable implementation of the [Boolean Satisfiability Problem](https://en.wikipedia.org/wiki/Boolean_satisfiability_problem), encoded in [Conjunctive Normal Form](https://en.wikipedia.org/wiki/Conjunctive_normal_form).\n",
    "\n",
    "$True$ is encoded as floating point $1.0$ and $False$ as floating point $0.0$."
   ]
  },
  {
   "cell_type": "code",
   "execution_count": 1,
   "metadata": {},
   "outputs": [],
   "source": [
    "import tensorflow as tf\n",
    "import matplotlib.pyplot as plt"
   ]
  },
  {
   "cell_type": "code",
   "execution_count": 2,
   "metadata": {},
   "outputs": [
    {
     "data": {
      "text/plain": [
       "True"
      ]
     },
     "execution_count": 2,
     "metadata": {},
     "output_type": "execute_result"
    }
   ],
   "source": [
    "tf.executing_eagerly()"
   ]
  },
  {
   "cell_type": "code",
   "execution_count": 3,
   "metadata": {},
   "outputs": [
    {
     "data": {
      "text/plain": [
       "[PhysicalDevice(name='/physical_device:GPU:0', device_type='GPU')]"
      ]
     },
     "execution_count": 3,
     "metadata": {},
     "output_type": "execute_result"
    }
   ],
   "source": [
    "tf.config.list_physical_devices('GPU')"
   ]
  },
  {
   "cell_type": "code",
   "execution_count": 4,
   "metadata": {},
   "outputs": [],
   "source": [
    "# https://github.com/tensorflow/tensorflow/issues/29781#issuecomment-542496509\n",
    "def compute_hessian(f, *x):\n",
    "    grad_grads = []\n",
    "    with tf.GradientTape(persistent=True) as hess_tape:\n",
    "        with tf.GradientTape() as grad_tape:\n",
    "            y = f(*x)\n",
    "        grad = grad_tape.gradient(y, x)\n",
    "        for g in grad:\n",
    "            grad_grads += list(hess_tape.gradient(g, x))\n",
    "    hessian = tf.stack(grad_grads)\n",
    "    return hessian"
   ]
  },
  {
   "cell_type": "markdown",
   "metadata": {},
   "source": [
    "## Differentiable AND gate\n",
    "\n",
    "Using floating point product as an approximation for $AND$ gate.\n",
    "\n",
    "$$0.0 * 1.0 = 0.0$$\n",
    "$$1.0 * 1.0 = 1.0$$\n",
    "$$ etc $$"
   ]
  },
  {
   "cell_type": "code",
   "execution_count": 5,
   "metadata": {},
   "outputs": [
    {
     "name": "stdout",
     "output_type": "stream",
     "text": [
      "tf.Tensor([1. 0. 0. 0.], shape=(4,), dtype=float32)\n",
      "tf.Tensor([1. 1. 0. 0.], shape=(4,), dtype=float32)\n",
      "tf.Tensor([1. 0. 1. 0.], shape=(4,), dtype=float32)\n",
      "WARNING:tensorflow:Calling GradientTape.gradient on a persistent tape inside its context is significantly less efficient than calling it outside the context (it causes the gradient ops to be recorded on the tape, leading to increased CPU and memory usage). Only call GradientTape.gradient inside the context if you actually want to trace the gradient in order to compute higher order derivatives.\n",
      "tf.Tensor(\n",
      "[[0. 0. 0. 0.]\n",
      " [1. 1. 1. 1.]\n",
      " [1. 1. 1. 1.]\n",
      " [0. 0. 0. 0.]], shape=(4, 4), dtype=float32)\n"
     ]
    }
   ],
   "source": [
    "@tf.function\n",
    "def gate_and(x, y):\n",
    "    return x * y\n",
    "\n",
    "x = tf.Variable([1, 0, 1, 0], dtype=tf.float32)\n",
    "y = tf.Variable([1, 1, 0, 0], dtype=tf.float32)\n",
    "\n",
    "with tf.GradientTape(persistent=True) as tape:\n",
    "    z = gate_and(x, y)\n",
    "    \n",
    "print(z)\n",
    "print(tape.gradient(z,x))\n",
    "print(tape.gradient(z,y))\n",
    "print(compute_hessian(gate_and, x, y))"
   ]
  },
  {
   "cell_type": "markdown",
   "metadata": {},
   "source": [
    "## Differentiable NOT gate\n",
    "\n",
    "Since, valid values are constrained between $0.0$ and $1.0$. We can negate by subtracting from $1.0$\n",
    "\n",
    "$$1.0 - 0.0 = 1.0$$\n",
    "$$1.0 - 1.0 = 0.0$$"
   ]
  },
  {
   "cell_type": "code",
   "execution_count": 6,
   "metadata": {},
   "outputs": [
    {
     "name": "stdout",
     "output_type": "stream",
     "text": [
      "tf.Tensor([0. 1. 0. 1.], shape=(4,), dtype=float32)\n",
      "tf.Tensor([-1. -1. -1. -1.], shape=(4,), dtype=float32)\n"
     ]
    }
   ],
   "source": [
    "@tf.function\n",
    "def gate_not(x):\n",
    "    return 1 - x\n",
    "\n",
    "x = tf.Variable([1, 0, 1, 0], dtype=tf.float32)\n",
    "\n",
    "with tf.GradientTape(persistent=True) as tape:\n",
    "    z = gate_not(x)\n",
    "    \n",
    "print(z)\n",
    "print(tape.gradient(z,x))"
   ]
  },
  {
   "cell_type": "markdown",
   "metadata": {},
   "source": [
    "## Differentiable OR gate\n",
    "We compose the OR gate using [De Morgan's Law](https://en.wikipedia.org/wiki/De_Morgan's_laws)\n",
    "\n",
    "$$ X \\lor Y = \\overline{\\overline{X} \\land \\overline{Y}} $$\n"
   ]
  },
  {
   "cell_type": "code",
   "execution_count": 7,
   "metadata": {},
   "outputs": [
    {
     "name": "stdout",
     "output_type": "stream",
     "text": [
      "tf.Tensor([1. 1. 1. 0.], shape=(4,), dtype=float32)\n",
      "tf.Tensor([-0. -0.  1.  1.], shape=(4,), dtype=float32)\n",
      "tf.Tensor([-0.  1. -0.  1.], shape=(4,), dtype=float32)\n"
     ]
    }
   ],
   "source": [
    "@tf.function\n",
    "def gate_or(x, y):\n",
    "    not_x = gate_not(x)\n",
    "    not_y = gate_not(y)\n",
    "    \n",
    "    x_not_y_not = gate_and(not_x, not_y)\n",
    "    x_or_y = gate_not(x_not_y_not)\n",
    "    \n",
    "    return x_or_y\n",
    "\n",
    "x = tf.Variable([1, 0, 1, 0], dtype=tf.float32)\n",
    "y = tf.Variable([1, 1, 0, 0], dtype=tf.float32)\n",
    "\n",
    "with tf.GradientTape(persistent=True) as tape:\n",
    "    z = gate_or(x, y)\n",
    "    \n",
    "print(z)\n",
    "print(tape.gradient(z,x))\n",
    "print(tape.gradient(z,y))"
   ]
  },
  {
   "cell_type": "markdown",
   "metadata": {},
   "source": [
    "## Differentiable XOR gate\n",
    "We compose XOR gate from definition\n",
    "$$ X \\oplus Y = (\\overline{X} \\land Y) \\lor (X \\land \\overline{Y}) $$"
   ]
  },
  {
   "cell_type": "code",
   "execution_count": 8,
   "metadata": {},
   "outputs": [
    {
     "name": "stdout",
     "output_type": "stream",
     "text": [
      "WARNING:tensorflow:Calling GradientTape.gradient on a persistent tape inside its context is significantly less efficient than calling it outside the context (it causes the gradient ops to be recorded on the tape, leading to increased CPU and memory usage). Only call GradientTape.gradient inside the context if you actually want to trace the gradient in order to compute higher order derivatives.\n",
      "tf.Tensor([0. 1. 1. 0.], shape=(4,), dtype=float32)\n",
      "tf.Tensor([-1. -1.  1.  1.], shape=(4,), dtype=float32)\n",
      "tf.Tensor([-1.  1. -1.  1.], shape=(4,), dtype=float32)\n",
      "tf.Tensor([0. 0. 0. 0.], shape=(4,), dtype=float32)\n",
      "tf.Tensor([-3. -1. -1. -3.], shape=(4,), dtype=float32)\n",
      "tf.Tensor([-3. -1. -1. -3.], shape=(4,), dtype=float32)\n",
      "tf.Tensor([0. 0. 0. 0.], shape=(4,), dtype=float32)\n"
     ]
    }
   ],
   "source": [
    "@tf.function\n",
    "def gate_xor(x, y):\n",
    "    not_x = gate_not(x)\n",
    "    not_y = gate_not(y)\n",
    "    \n",
    "    x_and_not_y = gate_and(x, not_y)\n",
    "    y_and_not_x = gate_and(y, not_x)\n",
    "    \n",
    "    x_xor_y = gate_or(x_and_not_y, y_and_not_x)\n",
    "    \n",
    "    return x_xor_y\n",
    "\n",
    "x = tf.Variable([1, 0, 1, 0], dtype=tf.float32)\n",
    "y = tf.Variable([1, 1, 0, 0], dtype=tf.float32)\n",
    "\n",
    "with tf.GradientTape(persistent=True) as tape:\n",
    "    z = gate_xor(x, y)\n",
    "    grads = tape.gradient(z,[x,y])\n",
    "    \n",
    "print(z)\n",
    "print(grads[0])\n",
    "print(grads[1])\n",
    "hessian = tape.gradient(grads[0],[x,y])\n",
    "print(hessian[0])\n",
    "print(hessian[1])\n",
    "hessian = tape.gradient(grads[1],[x,y])\n",
    "print(hessian[0])\n",
    "print(hessian[1])"
   ]
  },
  {
   "cell_type": "markdown",
   "metadata": {},
   "source": [
    "## Circuit Graph\n",
    "\n",
    "### Candidate Encoding\n",
    "\n",
    "Candidate is the input to the circuit. The satisfiability problem is considered solved when we find a candidate that makes the circuit output $True$.\n",
    "\n",
    "Candidate $X_1 = 0$, $X_2 = 1$ and $X_3 = 0$ is encoded as tensor.\n",
    "\n",
    "\\begin{equation*}\n",
    "Candidate = \n",
    "\\begin{bmatrix}\n",
    "0.0 & 1.0 & 0.0 \\\\\n",
    "\\end{bmatrix}\\end{equation*}\n",
    "\n",
    "### Circuit Encoding\n",
    "\n",
    "Circuit is encoded as a 2D tensor. e.g.\n",
    "\n",
    "$$\n",
    "(X_1 \\lor X_2 \\lor \\overline{X_3}) \\land\n",
    "(X_1 \\lor \\overline{X_2} \\lor X_3) \\land \n",
    "(\\overline{X_1} \\lor X_2 \\lor X_3)\n",
    "$$\n",
    "\n",
    "is encoded as\n",
    "\n",
    "\\begin{equation*}\n",
    "Circuit = \n",
    "\\begin{bmatrix}\n",
    "0.0 & 0.0 & 1.0 \\\\\n",
    "0.0 & 1.0 & 0.0 \\\\\n",
    "1.0 & 0.0 & 0.0\n",
    "\\end{bmatrix}\\end{equation*}\n"
   ]
  },
  {
   "cell_type": "markdown",
   "metadata": {},
   "source": [
    "### Algorithm\n",
    "\n",
    "To make the best use of GPU we follow this method.\n",
    "\n",
    "First we broadcast/tile the candidate to match the dimensions of the problem.\n",
    "\n",
    "\\begin{equation*}\n",
    "Candidate = \n",
    "\\begin{bmatrix}\n",
    "0.0 & 1.0 & 0.0 \\\\\n",
    "\\end{bmatrix}\\end{equation*}\n",
    "\n",
    "becomes\n",
    "\n",
    "\\begin{equation*}\n",
    "Candidate_{broadcasted} = \n",
    "\\begin{bmatrix}\n",
    "0.0 & 1.0 & 0.0 & 0.0 & 1.0 & 0.0 & 0.0 & 1.0 & 0.0 \\\\\n",
    "\\end{bmatrix}\\end{equation*}\n",
    "\n",
    "Next we flatten the circuit\n",
    "\n",
    "\\begin{equation*}\n",
    "Circuit = \n",
    "\\begin{bmatrix}\n",
    "0.0 & 0.0 & 1.0 &\n",
    "0.0 & 1.0 & 0.0 &\n",
    "1.0 & 0.0 & 0.0\n",
    "\\end{bmatrix}\\end{equation*}\n",
    "\n",
    "The XOR of the broadcasted candidate and the flat circuit gives us the activations at each element. e.g.\n",
    "\n",
    "$$\n",
    "(X_1 \\lor X_2 \\lor \\overline{X_3}) \\land\n",
    "(X_1 \\lor \\overline{X_2} \\lor X_3) \\land \n",
    "(\\overline{X_1} \\lor X_2 \\lor X_3)\n",
    "$$\n",
    "$$=$$\n",
    "$$\n",
    "(0.0 \\lor 1.0 \\lor 1.0) \\land\n",
    "(0.0 \\lor 0.0 \\lor 0.0) \\land \n",
    "(1.0 \\lor 1.0 \\lor 0.0)\n",
    "$$\n",
    "\n",
    "We shall now reshape the activations into 2D for the sake of clarity\n",
    "\n",
    "\\begin{equation*}\n",
    "Activations = \n",
    "\\begin{bmatrix}\n",
    "0.0 & 1.0 & 1.0 \\\\\n",
    "0.0 & 0.0 & 0.0 \\\\\n",
    "1.0 & 1.0 & 0.0\n",
    "\\end{bmatrix}\\end{equation*}\n",
    "\n",
    "Now we parallel reduce the $\\lor$ (OR) operations. We get\n",
    "\n",
    "\\begin{equation*}\n",
    "Activations = \n",
    "\\begin{bmatrix}\n",
    "1.0 \\\\\n",
    "0.0 \\\\\n",
    "1.0\n",
    "\\end{bmatrix}\\end{equation*}\n",
    "\n",
    "On reducing the $\\land$ (AND) operations, we get the output of the circuit\n",
    "\n",
    "\\begin{equation*}\n",
    "Activations = \n",
    "\\begin{bmatrix}\n",
    "0.0\n",
    "\\end{bmatrix}\\end{equation*}\n",
    "\n",
    "Since, the whole thing is differentiable end to end. We can optimize using SGD.\n"
   ]
  },
  {
   "cell_type": "code",
   "execution_count": 9,
   "metadata": {},
   "outputs": [
    {
     "name": "stdout",
     "output_type": "stream",
     "text": [
      "tf.Tensor(0.0, shape=(), dtype=float32)\n",
      "tf.Tensor([ 1. -1.  1.], shape=(3,), dtype=float32)\n",
      "tf.Tensor(\n",
      "[[ 0.  0.  0.]\n",
      " [ 1. -1.  1.]\n",
      " [ 0.  0.  0.]], shape=(3, 3), dtype=float32)\n"
     ]
    }
   ],
   "source": [
    "@tf.function\n",
    "def circuit_forward_pass(candidate, problem_encoding):\n",
    "    disjunction_count = tf.shape(problem_encoding)[0]\n",
    "    \n",
    "    broadcasted_candidate = tf.tile(candidate, [disjunction_count])\n",
    "    reshaped_problem = tf.reshape(problem_encoding, [-1])\n",
    "    \n",
    "    resolved_values = gate_xor(broadcasted_candidate, reshaped_problem)\n",
    "    reshaped_values = tf.reshape(resolved_values, [-1, disjunction_count])\n",
    "    reshaped_values = tf.transpose(reshaped_values, [1, 0])\n",
    "    \n",
    "    conjunctions = tf.scan(gate_or, reshaped_values)[-1]\n",
    "    conjunctions = tf.reshape(conjunctions, [-1,1])\n",
    "    disjunctions = tf.scan(gate_and, conjunctions)[-1][0]\n",
    "    \n",
    "    return disjunctions\n",
    "\n",
    "candidate = tf.Variable([0, 1, 0], dtype=tf.float32)\n",
    "problem_encoding = tf.Variable([\n",
    "   [0, 0, 1], \n",
    "   [0, 1, 0], \n",
    "   [1, 0, 0], \n",
    "], dtype=tf.float32)\n",
    "\n",
    "with tf.GradientTape(persistent=True) as tape:\n",
    "    z = circuit_forward_pass(candidate, problem_encoding)\n",
    "    \n",
    "print(z)\n",
    "print(tape.gradient(z,candidate))\n",
    "print(tape.gradient(z,problem_encoding))"
   ]
  },
  {
   "cell_type": "markdown",
   "metadata": {},
   "source": [
    "## Constraint/Boundary Loss function\n",
    "\n",
    "Since, the tensors are of type float, we need to constrain them between 0.0 and 1.0 and make sure the values stay close to these two."
   ]
  },
  {
   "cell_type": "code",
   "execution_count": 10,
   "metadata": {},
   "outputs": [
    {
     "name": "stdout",
     "output_type": "stream",
     "text": [
      "[0.5625, 0.0, 0.03515625, 0.0625, 0.03515625, 0.0, 0.5625]\n",
      "[-3.0, 0.0, 0.1875, 0.0, -0.1875, 0.0, 3.0]\n"
     ]
    }
   ],
   "source": [
    "@tf.function\n",
    "def constraint_loss_fn(candidate):\n",
    "    x = candidate\n",
    "    a = (x ** 2)\n",
    "    b = (x - 1) ** 2\n",
    "    \n",
    "    return a * b\n",
    "\n",
    "candidate = tf.Variable([-0.5, 0, 0.25, 0.5, 0.75, 1, 1.5], dtype=tf.float32)\n",
    "with tf.GradientTape() as tape:\n",
    "    z = constraint_loss_fn(candidate)\n",
    "    print(list(z.numpy()))\n",
    "    print(list(tape.gradient(z,candidate).numpy()))"
   ]
  },
  {
   "cell_type": "code",
   "execution_count": 11,
   "metadata": {},
   "outputs": [
    {
     "data": {
      "text/plain": [
       "[<matplotlib.lines.Line2D at 0x29c008b9e48>]"
      ]
     },
     "execution_count": 11,
     "metadata": {},
     "output_type": "execute_result"
    },
    {
     "data": {
      "image/png": "[encoded data removed]",
      "text/plain": [
       "<Figure size 432x288 with 1 Axes>"
      ]
     },
     "metadata": {
      "needs_background": "light"
     },
     "output_type": "display_data"
    }
   ],
   "source": [
    "xs = tf.range(-1,2.1,0.1)\n",
    "ys = constraint_loss_fn(xs)\n",
    "xs, ys = xs.numpy(), ys.numpy()\n",
    "plt.plot(xs, ys)"
   ]
  },
  {
   "cell_type": "markdown",
   "metadata": {},
   "source": [
    "## Optimization loss\n",
    "Loss to make sure that the output is equal to 1.0"
   ]
  },
  {
   "cell_type": "code",
   "execution_count": 12,
   "metadata": {},
   "outputs": [
    {
     "name": "stdout",
     "output_type": "stream",
     "text": [
      "tf.Tensor(8.25, shape=(), dtype=float32)\n",
      "tf.Tensor(-1.0, shape=(), dtype=float32)\n",
      "tf.Tensor([-12.   0.  12.], shape=(3,), dtype=float32)\n"
     ]
    }
   ],
   "source": [
    "@tf.function\n",
    "def loss_fn(candidate, output):\n",
    "    optimization_loss = tf.math.squared_difference(output, 1.0)\n",
    "    constraint_loss = constraint_loss_fn(candidate)\n",
    "    constraint_loss = tf.reduce_sum(constraint_loss)\n",
    "    return optimization_loss + constraint_loss\n",
    "\n",
    "candidate = tf.Variable([-1, 1, 2], dtype=tf.float32)\n",
    "output = tf.Variable(0.5, dtype=tf.float32)\n",
    "with tf.GradientTape(persistent=True) as tape:\n",
    "    z = loss_fn(candidate, output)\n",
    "    \n",
    "print(z)\n",
    "print(tape.gradient(z,output))\n",
    "print(tape.gradient(z,candidate))"
   ]
  },
  {
   "cell_type": "markdown",
   "metadata": {},
   "source": [
    "## Training/Optimization"
   ]
  },
  {
   "cell_type": "code",
   "execution_count": 13,
   "metadata": {},
   "outputs": [
    {
     "name": "stdout",
     "output_type": "stream",
     "text": [
      "0 1 [0.000300008513 0.9997 0.000300008513]\n",
      "1000 0.372614384 [0.202071369 0.809448719 0.202071369]\n",
      "2000 0.302438021 [0.317299336 0.773605466 0.317299306]\n",
      "3000 0.217134744 [0.467763871 0.900396705 0.467763722]\n",
      "4000 0.101519562 [0.686918437 1.02080131 0.686917782]\n",
      "5000 0.012053174 [0.915573061 1.00370216 0.915572584]\n",
      "6000 2.50427984e-05 [0.996464252 1.00000632 0.996464193]\n",
      "7000 2.62632721e-10 [0.999989033 1.00000441 0.999989033]\n",
      "8000 2.00159576e-11 [0.999997437 1.00000262 0.999997437]\n",
      "9000 7.20489597e-12 [0.99999845 1.00000155 0.99999845]\n"
     ]
    }
   ],
   "source": [
    "candidate = tf.Variable([0, 1, 0], dtype=tf.float32)\n",
    "problem_encoding = tf.Variable([\n",
    "   [0, 0, 1], \n",
    "   [0, 1, 0], \n",
    "   [1, 0, 0], \n",
    "], dtype=tf.float32)\n",
    "\n",
    "opt = tf.keras.optimizers.Adam(learning_rate=3e-4)\n",
    "\n",
    "@tf.function\n",
    "def train_step():\n",
    "    with tf.GradientTape() as tape:\n",
    "        z = circuit_forward_pass(candidate, problem_encoding)\n",
    "        loss = loss_fn(candidate, z)\n",
    "    grads = tape.gradient(loss, candidate)\n",
    "    opt.apply_gradients(zip([grads], [candidate]))\n",
    "    return loss\n",
    "\n",
    "for i in range(10000):\n",
    "    loss = train_step()\n",
    "    if i % 1000 == 0:\n",
    "        tf.print(i, loss, candidate)"
   ]
  },
  {
   "cell_type": "markdown",
   "metadata": {},
   "source": [
    "## Result\n",
    "$X_1 = 1.0$, $X_2 = 1.0$ and $X_3 = 1.0$ is a valid candidate which we can verify manually."
   ]
  },
  {
   "cell_type": "code",
   "execution_count": 14,
   "metadata": {},
   "outputs": [
    {
     "name": "stdout",
     "output_type": "stream",
     "text": [
      "tf.Tensor([1. 1. 1.], shape=(3,), dtype=float32)\n",
      "tf.Tensor(1.0, shape=(), dtype=float32)\n"
     ]
    }
   ],
   "source": [
    "print(tf.round(candidate))\n",
    "z = circuit_forward_pass(tf.round(candidate), problem_encoding)\n",
    "print(z)"
   ]
  },
  {
   "cell_type": "code",
   "execution_count": null,
   "metadata": {},
   "outputs": [],
   "source": []
  }
 ],
 "metadata": {
  "interpreter": {
   "hash": "f1d83f9e8f5c8837e86d6304fd35fdd4149e22cdc219dfc99f4444b7e631426b"
  },
  "kernelspec": {
   "display_name": "Python 3.7.6 64-bit",
   "language": "python",
   "name": "python3"
  },
  "language_info": {
   "codemirror_mode": {
    "name": "ipython",
    "version": 3
   },
   "file_extension": ".py",
   "mimetype": "text/x-python",
   "name": "python",
   "nbconvert_exporter": "python",
   "pygments_lexer": "ipython3",
   "version": "3.7.6"
  }
 },
 "nbformat": 4,
 "nbformat_minor": 4
}

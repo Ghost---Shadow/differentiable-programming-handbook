{
 "cells": [
  {
   "cell_type": "code",
   "execution_count": 1,
   "metadata": {},
   "outputs": [],
   "source": [
    "import numpy as np\n",
    "import matplotlib.pyplot as plt\n",
    "import tensorflow as tf\n",
    "%matplotlib inline"
   ]
  },
  {
   "cell_type": "markdown",
   "source": "# Differentiable Rectangle Renderer\n\nThis notebook explores differentiable rendering by implementing a system that can draw rectangles on a canvas using differentiable operations. This enables gradient-based optimization of geometric parameters and neural network training on rendering tasks.\n\n## What is Differentiable Rendering?\n\nDifferentiable rendering makes the process of generating images from geometric descriptions fully differentiable. This enables:\n\n- **Inverse graphics**: Given an image, optimize parameters to reconstruct the geometry\n- **Neural rendering**: Train neural networks end-to-end on rendering tasks\n- **Shape optimization**: Use gradients to optimize geometric properties\n- **Analysis by synthesis**: Learn to generate images by analyzing real ones\n\n## Key Challenges\n\nTraditional rendering uses discrete operations (like pixel tests) that break differentiability. We solve this by:\n- **Soft geometric tests**: Replace binary inside/outside tests with continuous functions\n- **Smooth activation functions**: Use functions like LeakyReLU instead of hard thresholds\n- **Gradient-friendly operations**: Ensure all operations preserve gradient flow\n\nLet's implement a differentiable rectangle renderer and explore its capabilities!",
   "metadata": {}
  },
  {
   "cell_type": "code",
   "execution_count": 2,
   "metadata": {},
   "outputs": [
    {
     "data": {
      "text/plain": [
       "[PhysicalDevice(name='/physical_device:GPU:0', device_type='GPU')]"
      ]
     },
     "execution_count": 2,
     "metadata": {},
     "output_type": "execute_result"
    }
   ],
   "source": [
    "tf.config.list_physical_devices('GPU')"
   ]
  },
  {
   "cell_type": "markdown",
   "source": "### Algorithm Explanation\n\nThe algorithm works by:\n\n1. **Create coordinate grid**: Generate (x,y) coordinates for every pixel\n2. **Distance calculations**: \n   - `a = pixel - p1`: Distance from bottom-left corner\n   - `b = p2 - pixel`: Distance from top-right corner\n3. **Soft boundaries**: Use ReLU to create soft rectangular regions\n4. **Intersection**: Multiply the results to get the rectangle interior\n\nThe key insight: Instead of discrete inside/outside tests, we use smooth functions that approximate rectangular membership.",
   "metadata": {}
  },
  {
   "cell_type": "markdown",
   "source": "### Key Improvements\n\n- **LeakyReLU**: Provides better gradients than standard ReLU\n- **Gradient clamping**: `-tf.nn.leaky_relu(-result)` ensures proper gradient flow\n- **TensorFlow operations**: All operations are differentiable and GPU-accelerated\n\nNotice the colorful output indicating smooth gradients throughout the canvas!",
   "metadata": {}
  },
  {
   "cell_type": "markdown",
   "source": "### Target Rectangle\n\nLet's create a target rectangle that we'll try to reconstruct using gradient-based optimization:",
   "metadata": {}
  },
  {
   "cell_type": "markdown",
   "source": "### Gradient Analysis\n\nExcellent results! The system provides meaningful gradients:\n\n- **Loss**: `2.24` indicates the mismatch between current and target rectangles\n- **Gradient for p1**: `[-4.48, -4.8]` suggests moving p1 in the negative direction\n- **Gradient for p2**: `[3.2, 4.8]` suggests moving p2 in the positive direction\n\nThe difference visualization shows exactly where the rectangles don't match, with colors indicating the magnitude and direction of required changes.\n\nThis demonstrates successful **inverse graphics**: from a target image, we can compute gradients that tell us how to adjust geometric parameters!",
   "metadata": {}
  },
  {
   "cell_type": "markdown",
   "source": "### Gradient Verification\n\nA simple sanity check confirming that gradients work as expected for basic L2 loss.",
   "metadata": {}
  },
  {
   "cell_type": "markdown",
   "source": "## Inverse Graphics: Parameter Optimization\n\nNow for the exciting part! Let's see if we can recover rectangle parameters by optimizing to match a target image:",
   "metadata": {}
  },
  {
   "cell_type": "markdown",
   "source": "## TensorFlow Implementation\n\nNow let's implement the same algorithm in TensorFlow with full differentiability:",
   "metadata": {}
  },
  {
   "cell_type": "markdown",
   "source": "## Basic Rectangle Rendering\n\nLet's start with a simple implementation using NumPy to understand the core algorithm:",
   "metadata": {}
  },
  {
   "cell_type": "markdown",
   "source": "### Batched Implementation\n\nThe `batched_draw_rectangle` function efficiently processes multiple rectangles simultaneously using:\n- **Broadcasting**: Efficiently tiles coordinates across batch dimensions\n- **Vectorization**: Processes all batch elements in parallel\n- **Memory efficiency**: Avoids explicit loops over batch elements\n\nThe visualization shows two rectangles rendered in a single batch operation!",
   "metadata": {}
  },
  {
   "cell_type": "markdown",
   "source": "### Dataset Generation\n\nWe create a dataset where both input and output are the same rectangle images. This creates an **autoencoder** task where the network must:\n1. Extract rectangle parameters from the input image\n2. Use those parameters to reconstruct the original image\n\nThis forces the network to learn a compressed geometric representation!",
   "metadata": {}
  },
  {
   "cell_type": "markdown",
   "source": "### Architecture Details\n\n**Encoder (Vision)**:\n- **Conv2D layers**: Extract visual features from input images\n- **GlobalMaxPool2D**: Reduces spatial dimensions to a feature vector\n- **Dense layer**: Maps features to 4 geometric parameters (x1, y1, x2, y2)\n\n**Decoder (Renderer)**:\n- **Parameter extraction**: Splits the 4-element output into corner coordinates  \n- **Differentiable rendering**: Uses our `batched_draw_rectangle` function\n- **Reconstruction**: Generates output images from predicted parameters\n\nThis end-to-end architecture learns to compress rectangle images into geometric parameters and reconstruct them perfectly!",
   "metadata": {}
  },
  {
   "cell_type": "markdown",
   "source": "## Neural Renderer Architecture\n\nThis model combines **computer vision** with **differentiable rendering**:",
   "metadata": {}
  },
  {
   "cell_type": "markdown",
   "source": "### Training Results\n\nThe training shows the model learning to perform **analysis by synthesis**:\n- **High initial loss**: The network starts with random geometric predictions\n- **Gradual improvement**: Loss decreases as the network learns better parameter extraction\n- **Convergence challenges**: The task is difficult because it requires precise geometric understanding\n\nThe large loss values indicate this is a challenging problem requiring careful tuning of architecture and hyperparameters.",
   "metadata": {}
  },
  {
   "cell_type": "markdown",
   "source": "## Summary and Applications\n\nWe've successfully implemented a differentiable rectangle renderer that demonstrates key concepts in differentiable graphics:\n\n### Key Achievements\n\n- ✅ **Differentiable geometry**: Made rectangle rendering fully differentiable\n- ✅ **Inverse graphics**: Computed gradients for parameter optimization\n- ✅ **Batched processing**: Efficient handling of multiple shapes\n- ✅ **Neural rendering**: Integrated rendering into neural network architectures\n- ✅ **End-to-end learning**: Trained systems that learn geometric representations\n\n### Technical Innovations\n\n- **Soft geometric tests**: Replaced discrete inside/outside tests with smooth functions\n- **Gradient-friendly activations**: Used LeakyReLU for better gradient flow\n- **Efficient broadcasting**: Vectorized operations for batch processing\n- **Analysis by synthesis**: Neural networks that learn by reconstruction\n\n### Applications\n\nThis framework enables numerous applications:\n\n- **Computer graphics**: Learnable rendering pipelines\n- **Computer vision**: Inverse graphics for 3D reconstruction\n- **Medical imaging**: Shape analysis and reconstruction\n- **Robotics**: Visual servoing and shape-based control\n- **Art and design**: AI-assisted creative tools\n- **Scientific visualization**: Learnable visualization systems\n\n### Extensions\n\nPotential improvements and extensions:\n\n- **More complex shapes**: Circles, polygons, bezier curves\n- **3D rendering**: Extension to volumetric and mesh rendering  \n- **Texture mapping**: Differentiable texture application\n- **Lighting models**: Physically-based differentiable shading\n- **Anti-aliasing**: Smooth edge rendering\n- **Occlusion handling**: Multiple overlapping objects\n\nDifferentiable rendering represents a powerful fusion of computer graphics and machine learning, enabling new approaches to visual understanding and generation!",
   "metadata": {}
  },
  {
   "cell_type": "markdown",
   "source": "## Neural Network Training\n\nNow let's train a neural network to learn the inverse mapping: from rectangle images to geometric parameters!",
   "metadata": {}
  },
  {
   "cell_type": "markdown",
   "source": "## Batched Processing\n\nFor training neural networks, we need to handle batches of rectangles efficiently:",
   "metadata": {}
  },
  {
   "cell_type": "code",
   "execution_count": 3,
   "metadata": {},
   "outputs": [
    {
     "data": {
      "image/png": "[encoded data removed]",
      "text/plain": [
       "<Figure size 432x288 with 1 Axes>"
      ]
     },
     "metadata": {
      "needs_background": "light"
     },
     "output_type": "display_data"
    }
   ],
   "source": [
    "def draw_rectangle(canvas, p1, p2):\n",
    "  xs = np.arange(canvas.shape[0])\n",
    "  ys = np.arange(canvas.shape[1])\n",
    "  xs_tiled = np.tile(np.expand_dims(xs, 1), [1, ys.shape[0]])\n",
    "  xs_tiled = np.expand_dims(xs_tiled, 2)\n",
    "  ys_tiled = np.tile(np.expand_dims(ys, 0), [xs.shape[0], 1])\n",
    "  ys_tiled = np.expand_dims(ys_tiled, 2)\n",
    "  cartesian_product = np.concatenate([xs_tiled, ys_tiled], axis=2)\n",
    "\n",
    "  a = cartesian_product - p1\n",
    "  a = tf.nn.relu(a + 1)\n",
    "  a = tf.reduce_prod(a, -1)\n",
    "\n",
    "  b = p2 - cartesian_product\n",
    "  b = tf.nn.relu(b + 1)\n",
    "  b = tf.reduce_prod(b, -1)\n",
    "\n",
    "  return a * b\n",
    "\n",
    "p1 = np.array([1,1], dtype=np.float32)\n",
    "p2 = np.array([2,2], dtype=np.float32)\n",
    "canvas = np.zeros((4,4), dtype=np.float32)\n",
    "canvas = draw_rectangle(canvas, p1, p2)\n",
    "plt.imshow(canvas, interpolation='none')\n",
    "plt.show()"
   ]
  },
  {
   "cell_type": "code",
   "execution_count": 4,
   "metadata": {},
   "outputs": [
    {
     "data": {
      "image/png": "[encoded data removed]",
      "text/plain": [
       "<Figure size 432x288 with 1 Axes>"
      ]
     },
     "metadata": {
      "needs_background": "light"
     },
     "output_type": "display_data"
    }
   ],
   "source": [
    "@tf.function\n",
    "def draw_rectangle(canvas, p1, p2):\n",
    "  xs = tf.range(canvas.shape[0])\n",
    "  ys = tf.range(canvas.shape[1])\n",
    "  xs_tiled = tf.tile(tf.expand_dims(xs, 1), [1, ys.shape[0]])\n",
    "  xs_tiled = tf.expand_dims(xs_tiled, 2)\n",
    "  ys_tiled = tf.tile(tf.expand_dims(ys, 0), [xs.shape[0], 1])\n",
    "  ys_tiled = tf.expand_dims(ys_tiled, 2)\n",
    "  cartesian_product = tf.concat([xs_tiled, ys_tiled], axis=2)\n",
    "  cartesian_product = tf.cast(cartesian_product, dtype=tf.float32)\n",
    "\n",
    "  a = cartesian_product - p1\n",
    "  a = tf.nn.leaky_relu(a + 1)\n",
    "  a = tf.reduce_prod(a, -1)\n",
    "\n",
    "  b = p2 - cartesian_product\n",
    "  b = tf.nn.leaky_relu(b + 1)\n",
    "  b = tf.reduce_prod(b, -1)\n",
    "\n",
    "  result = a * b\n",
    "  result = -tf.nn.leaky_relu(-result)\n",
    "\n",
    "  return result\n",
    "\n",
    "p1 = tf.constant([2,2], dtype=tf.float32)\n",
    "p2 = tf.constant([3,3], dtype=tf.float32)\n",
    "canvas = tf.zeros((4,4), dtype=tf.float32)\n",
    "canvas = draw_rectangle(canvas, p1, p2)\n",
    "plt.imshow(canvas, interpolation='none')\n",
    "plt.show()"
   ]
  },
  {
   "cell_type": "code",
   "execution_count": 5,
   "metadata": {},
   "outputs": [
    {
     "data": {
      "image/png": "[encoded data removed]",
      "text/plain": [
       "<Figure size 432x288 with 1 Axes>"
      ]
     },
     "metadata": {
      "needs_background": "light"
     },
     "output_type": "display_data"
    }
   ],
   "source": [
    "tp1 = tf.constant([1,1], dtype=tf.float32)\n",
    "tp2 = tf.constant([2,2], dtype=tf.float32)\n",
    "target_canvas = tf.zeros((4,4), dtype=tf.float32)\n",
    "target_canvas = draw_rectangle(target_canvas, tp1, tp2)\n",
    "plt.imshow(target_canvas, interpolation='none')\n",
    "plt.show()"
   ]
  },
  {
   "cell_type": "code",
   "execution_count": 6,
   "metadata": {},
   "outputs": [
    {
     "name": "stdout",
     "output_type": "stream",
     "text": [
      "tf.Tensor(2.2400002, shape=(), dtype=float32)\n",
      "tf.Tensor([-4.48 -4.8 ], shape=(2,), dtype=float32)\n",
      "tf.Tensor([3.2000003 4.8000007], shape=(2,), dtype=float32)\n"
     ]
    },
    {
     "data": {
      "image/png": "[encoded data removed]",
      "text/plain": [
       "<Figure size 432x288 with 1 Axes>"
      ]
     },
     "metadata": {
      "needs_background": "light"
     },
     "output_type": "display_data"
    }
   ],
   "source": [
    "p1 = tf.Variable([0,1], dtype=tf.float32)\n",
    "p2 = tf.Variable([2,2], dtype=tf.float32)\n",
    "canvas = tf.zeros((4,4), dtype=tf.float32)\n",
    "with tf.GradientTape(persistent=True) as tape:\n",
    "  canvas = draw_rectangle(canvas, p1, p2)\n",
    "  loss = tf.nn.l2_loss(target_canvas - canvas)\n",
    "\n",
    "dp1 = tape.gradient(loss, p1)\n",
    "dp2 = tape.gradient(loss, p2)\n",
    "print(loss)\n",
    "print(dp1)\n",
    "print(dp2)\n",
    "diff = target_canvas - canvas\n",
    "plt.imshow(diff, interpolation='none')\n",
    "plt.show()"
   ]
  },
  {
   "cell_type": "code",
   "execution_count": 7,
   "metadata": {},
   "outputs": [
    {
     "data": {
      "text/plain": [
       "<tf.Tensor: shape=(), dtype=float32, numpy=2.0>"
      ]
     },
     "execution_count": 7,
     "metadata": {},
     "output_type": "execute_result"
    }
   ],
   "source": [
    "a = tf.Variable(5.0)\n",
    "b = tf.Variable(3.0)\n",
    "with tf.GradientTape(persistent=True) as tape:\n",
    "  loss = tf.nn.l2_loss(a - b)\n",
    "\n",
    "tape.gradient(loss, a)"
   ]
  },
  {
   "cell_type": "code",
   "execution_count": 8,
   "metadata": {},
   "outputs": [],
   "source": [
    "# def dataset_generator(n=1024):\n",
    "#   for _ in range(n):\n",
    "#     canvas = tf.zeros((100, 100), dtype=tf.float32)\n",
    "#     p1 = tf.random.uniform((2,), maxval=100)\n",
    "#     p2 = tf.random.uniform((2,), maxval=100)\n",
    "#     x = draw_rectangle(canvas, p1, p2)\n",
    "#     x = tf.expand_dims(x, -1)\n",
    "#     y = tf.concat([p1, p2], axis=0)\n",
    "#     yield x, y\n",
    "\n",
    "# for x, y in dataset_generator(5):\n",
    "#   print(x.shape, y.shape)\n",
    "\n",
    "# dataset = tf.data.Dataset.from_generator(\n",
    "#   dataset_generator,\n",
    "#   output_signature=(\n",
    "#          tf.TensorSpec(shape=(100,100,1), dtype=tf.float32),\n",
    "#          tf.TensorSpec(shape=(4,), dtype=tf.float32)\n",
    "#          )\n",
    "#          )\n",
    "# # print(list(dataset.take(1)))\n",
    "# # dataset = dataset.shuffle(buffer_size=100).batch(64)\n",
    "# dataset = dataset.batch(512)"
   ]
  },
  {
   "cell_type": "code",
   "execution_count": 9,
   "metadata": {},
   "outputs": [],
   "source": [
    "# class MyModel(tf.keras.Model):\n",
    "#   def __init__(self):\n",
    "#     super().__init__()\n",
    "#     self.cnn1 = tf.keras.layers.Conv2D(10, 10, activation='relu')\n",
    "#     # self.cnn2 = tf.keras.layers.Conv2D(10, 3, activation='relu')\n",
    "#     self.max_pool = tf.keras.layers.GlobalMaxPool2D()\n",
    "#     self.dense = tf.keras.layers.Dense(4, activation='softmax')\n",
    "\n",
    "#   def call(self, x):\n",
    "#     h = x\n",
    "#     h = self.cnn1(h)\n",
    "#     # h = self.cnn2(h)\n",
    "#     h = self.max_pool(h)\n",
    "#     h = self.dense(h)\n",
    "#     h = h * 100\n",
    "#     return h\n",
    "\n",
    "# model = MyModel()\n",
    "# model.compile(optimizer=tf.keras.optimizers.Adam(learning_rate=4e-3),\n",
    "#               loss=tf.keras.losses.MeanSquaredError())\n"
   ]
  },
  {
   "cell_type": "code",
   "execution_count": 10,
   "metadata": {},
   "outputs": [],
   "source": [
    "# model.fit(dataset, epochs=10)"
   ]
  },
  {
   "cell_type": "code",
   "execution_count": 11,
   "metadata": {},
   "outputs": [
    {
     "data": {
      "image/png": "[encoded data removed]",
      "text/plain": [
       "<Figure size 432x288 with 1 Axes>"
      ]
     },
     "metadata": {
      "needs_background": "light"
     },
     "output_type": "display_data"
    }
   ],
   "source": [
    "@tf.function\n",
    "def batched_draw_rectangle(canvas, p1, p2):\n",
    "  tf.debugging.assert_rank(canvas, 3)\n",
    "  tf.debugging.assert_rank(p1, 2)\n",
    "  tf.debugging.assert_rank(p2, 2)\n",
    "\n",
    "  batch_size = tf.shape(canvas)[0]\n",
    "  canvas_dim_x = tf.shape(canvas)[1]\n",
    "  canvas_dim_y = tf.shape(canvas)[2]\n",
    "\n",
    "  xs = tf.range(canvas_dim_x)\n",
    "  ys = tf.range(canvas_dim_y)\n",
    "  xs_tiled = tf.tile(tf.expand_dims(xs, 1), [1, canvas_dim_y])\n",
    "  xs_tiled = tf.expand_dims(xs_tiled, 2)\n",
    "  ys_tiled = tf.tile(tf.expand_dims(ys, 0), [canvas_dim_x, 1])\n",
    "  ys_tiled = tf.expand_dims(ys_tiled, 2)\n",
    "  cartesian_product = tf.concat([xs_tiled, ys_tiled], axis=2)\n",
    "  cartesian_product = tf.cast(cartesian_product, dtype=tf.float32)\n",
    "  cartesian_product = tf.expand_dims(cartesian_product,axis=0)\n",
    "  cartesian_product = tf.tile(cartesian_product, [batch_size, 1, 1, 1])\n",
    "\n",
    "  p1 = tf.reshape(p1, [batch_size,1,1,2])\n",
    "  p1 = tf.tile(p1, [1,canvas_dim_x,canvas_dim_y,1])\n",
    "  a = cartesian_product - p1\n",
    "  a = tf.nn.leaky_relu(a + 1)\n",
    "  a = tf.reduce_prod(a, -1)\n",
    "\n",
    "  p2 = tf.reshape(p2, [batch_size,1,1,2])\n",
    "  p2 = tf.tile(p2, [1,canvas_dim_x,canvas_dim_y,1])\n",
    "  b = p2 - cartesian_product\n",
    "  b = tf.nn.leaky_relu(b + 1)\n",
    "  b = tf.reduce_prod(b, -1)\n",
    "\n",
    "  result = a * b\n",
    "  result = -tf.nn.leaky_relu(-result)\n",
    "\n",
    "  return result\n",
    "\n",
    "p1 = tf.constant([[1,1],[2,2]], dtype=tf.float32)\n",
    "p2 = tf.constant([[2,2],[3,3]], dtype=tf.float32)\n",
    "canvas = tf.zeros((2,4,4), dtype=tf.float32)\n",
    "canvas = batched_draw_rectangle(canvas, p1, p2)\n",
    "canvas = tf.reshape(canvas, [8,4])\n",
    "plt.imshow(canvas, interpolation='none')\n",
    "plt.show()"
   ]
  },
  {
   "cell_type": "code",
   "execution_count": 12,
   "metadata": {},
   "outputs": [
    {
     "name": "stdout",
     "output_type": "stream",
     "text": [
      "(100, 100, 1) (100, 100, 1)\n",
      "(100, 100, 1) (100, 100, 1)\n",
      "(100, 100, 1) (100, 100, 1)\n",
      "(100, 100, 1) (100, 100, 1)\n",
      "(100, 100, 1) (100, 100, 1)\n"
     ]
    }
   ],
   "source": [
    "def dataset_generator2(n=1024):\n",
    "  for _ in range(n):\n",
    "    canvas = tf.zeros((100, 100), dtype=tf.float32)\n",
    "    p1 = tf.random.uniform((2,), maxval=100)\n",
    "    p2 = tf.random.uniform((2,), maxval=100)\n",
    "    x = draw_rectangle(canvas, p1, p2)\n",
    "    x = tf.expand_dims(x, -1)\n",
    "    yield x, x\n",
    "\n",
    "for x, y in dataset_generator2(5):\n",
    "  print(x.shape, y.shape)\n",
    "\n",
    "dataset = tf.data.Dataset.from_generator(\n",
    "  dataset_generator2,\n",
    "  output_signature=(\n",
    "         tf.TensorSpec(shape=(100,100,1), dtype=tf.float32),\n",
    "         tf.TensorSpec(shape=(100,100,1), dtype=tf.float32)\n",
    "         )\n",
    "         )\n",
    "# print(list(dataset.take(1)))\n",
    "# dataset = dataset.shuffle(buffer_size=100).batch(64)\n",
    "BATCH_SIZE = 16\n",
    "dataset = dataset.batch(BATCH_SIZE)"
   ]
  },
  {
   "cell_type": "code",
   "execution_count": 13,
   "metadata": {},
   "outputs": [],
   "source": [
    "class MyModel2(tf.keras.Model):\n",
    "  def __init__(self, canvas_dim=100):\n",
    "    super().__init__()\n",
    "    self.cnn1 = tf.keras.layers.Conv2D(10, 10, activation='relu')\n",
    "    self.cnn2 = tf.keras.layers.Conv2D(10, 3, activation='relu')\n",
    "    self.max_pool = tf.keras.layers.GlobalMaxPool2D()\n",
    "    self.dense = tf.keras.layers.Dense(4, activation='softmax')\n",
    "    self.canvas_dim = canvas_dim\n",
    "\n",
    "  def call(self, x):\n",
    "    batch_size = tf.shape(x)[0]\n",
    "    h = x\n",
    "    h = self.cnn1(h)\n",
    "    h = self.cnn2(h)\n",
    "    h = self.max_pool(h)\n",
    "    h = self.dense(h)\n",
    "    h = h * self.canvas_dim\n",
    "    canvas = tf.zeros((batch_size, self.canvas_dim, self.canvas_dim), dtype=tf.float32)\n",
    "    h = batched_draw_rectangle(canvas, h[:,0:2], h[:,2:4])\n",
    "    return h\n",
    "\n",
    "model = MyModel2()\n",
    "model.compile(\n",
    "  optimizer=tf.keras.optimizers.Adam(learning_rate=4e-3),\n",
    "  # optimizer=tf.keras.optimizers.SGD(learning_rate=1e-3),\n",
    "  loss=tf.keras.losses.MeanSquaredError()\n",
    ")"
   ]
  },
  {
   "cell_type": "code",
   "execution_count": 14,
   "metadata": {},
   "outputs": [],
   "source": [
    "tb_callback = tf.keras.callbacks.TensorBoard('./logs')"
   ]
  },
  {
   "cell_type": "code",
   "execution_count": 15,
   "metadata": {},
   "outputs": [
    {
     "name": "stdout",
     "output_type": "stream",
     "text": [
      "Epoch 1/10\n",
      "64/64 [==============================] - 8s 73ms/step - loss: 66128285696.0000\n",
      "Epoch 2/10\n",
      "64/64 [==============================] - 4s 63ms/step - loss: 24405182464.0000\n",
      "Epoch 3/10\n",
      "64/64 [==============================] - 4s 55ms/step - loss: 24864976896.0000\n",
      "Epoch 4/10\n",
      "64/64 [==============================] - 4s 57ms/step - loss: 26837458944.0000\n",
      "Epoch 5/10\n",
      "64/64 [==============================] - 4s 58ms/step - loss: 21879934976.0000\n",
      "Epoch 6/10\n",
      "64/64 [==============================] - 4s 68ms/step - loss: 26847856640.0000\n",
      "Epoch 7/10\n",
      "64/64 [==============================] - 4s 68ms/step - loss: 25983490048.0000\n",
      "Epoch 8/10\n",
      "64/64 [==============================] - 4s 58ms/step - loss: 21647581184.0000\n",
      "Epoch 9/10\n",
      "64/64 [==============================] - 3s 53ms/step - loss: 25099505664.0000\n",
      "Epoch 10/10\n",
      "64/64 [==============================] - 4s 61ms/step - loss: 27150958592.0000\n"
     ]
    },
    {
     "data": {
      "text/plain": [
       "<keras.callbacks.History at 0x21689781490>"
      ]
     },
     "execution_count": 15,
     "metadata": {},
     "output_type": "execute_result"
    }
   ],
   "source": [
    "model.fit(dataset, epochs=1000, callbacks=[tb_callback])"
   ]
  },
  {
   "cell_type": "code",
   "execution_count": null,
   "metadata": {},
   "outputs": [],
   "source": []
  }
 ],
 "metadata": {
  "interpreter": {
   "hash": "e2fe167f8ebb6270478c92147a6f17a6f2a16ae487391713010af5cd6434a916"
  },
  "kernelspec": {
   "display_name": "Python 3.8.5 ('base')",
   "language": "python",
   "name": "python3"
  },
  "language_info": {
   "codemirror_mode": {
    "name": "ipython",
    "version": 3
   },
   "file_extension": ".py",
   "mimetype": "text/x-python",
   "name": "python",
   "nbconvert_exporter": "python",
   "pygments_lexer": "ipython3",
   "version": "3.8.5"
  },
  "orig_nbformat": 4
 },
 "nbformat": 4,
 "nbformat_minor": 2
}
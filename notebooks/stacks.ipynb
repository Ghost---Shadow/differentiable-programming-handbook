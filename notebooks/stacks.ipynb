{
 "cells": [
  {
   "cell_type": "markdown",
   "metadata": {},
   "source": "# Differentiable Stacks\n\nStacks are fundamental data structures that operate on a Last-In-First-Out (LIFO) principle. This notebook demonstrates how to implement differentiable stacks that maintain exact stack semantics while enabling gradient-based optimization.\n\n## Motivation\n\nTraditional stacks use discrete operations that break differentiability. However, many applications could benefit from learnable stack operations:\n\n- **Neural Turing Machines**: External memory for neural networks\n- **Stack-augmented RNNs**: Learning algorithmic patterns\n- **Program synthesis**: Learning stack-based algorithms\n- **Parsing**: Differentiable syntax analysis\n\n## Design Principles\n\nOur differentiable stack implementation follows two critical rules:\n\n1. **Deterministic and lossless forward pass**: The stack behaves exactly like a classical stack\n2. **Well-defined gradients in backward pass**: All operations preserve gradient flow\n\n## Related Work\n\nSeveral papers have explored differentiable stacks:\n- [Learning to Transduce with Unbounded Memory](http://papers.nips.cc/paper/5648-learning-to-transduce-with-unbounded-memory.pdf)\n- [Inferring Algorithmic Patterns with Stack-Augmented Recurrent Nets](https://papers.nips.cc/paper/5857-inferring-algorithmic-patterns-with-stack-augmented-recurrent-nets.pdf)\n\nOur implementation emphasizes simplicity and exact stack semantics while leveraging TensorFlow's automatic differentiation capabilities."
  },
  {
   "cell_type": "code",
   "execution_count": 1,
   "metadata": {},
   "outputs": [],
   "source": [
    "import tensorflow as tf"
   ]
  },
  {
   "cell_type": "markdown",
   "source": "## Stack Representation\n\nOur stack consists of two components:\n\n1. **Buffer**: A fixed-size tensor that stores stack elements\n2. **Index**: A one-hot vector indicating the current top of stack position\n\n### Key Design Decisions\n\n- **One-hot indexing**: Enables differentiable addressing using superposition lookup\n- **Fixed buffer size**: Prevents dynamic shape changes that break TensorFlow graphs\n- **Stateless functions**: Each operation returns a new stack state (functional programming style)\n\n### Memory Layout\n\n```\nBuffer: [[elem3], [elem2], [elem1], [empty], [empty]]\nIndex:  [1,       0,       0,       0,       0]\n```\n\nThe index points to the **next available position** (top + 1), following stack growth direction.\n\n**Note**: Since these functions create variables, they must execute eagerly when using learnable stacks.",
   "metadata": {}
  },
  {
   "cell_type": "markdown",
   "metadata": {},
   "source": "## Stack representation\n\nThe `stack` variable has two variables, buffer and index. The buffer is the writable buffer where stack elements are stored. Index points to top of stack + 1.\n\nNote: Since these functions can create variables, they must execute eagerly."
  },
  {
   "cell_type": "markdown",
   "source": "### Stack Creation\n\nThe `new_stack` function creates empty stacks with specified dimensions. The `is_learnable` parameter determines whether the stack components are TensorFlow Variables (trainable) or Constants.",
   "metadata": {}
  },
  {
   "cell_type": "markdown",
   "source": "## Differentiable Array Operations\n\nSince TensorFlow doesn't support direct index assignment, we use **soft assignment** techniques. These operations are detailed in our other notebooks:\n\n- [bubble-sort.ipynb](bubble-sort.ipynb): Soft swapping operations\n- [differentiable-indexed-arrays.ipynb](differentiable-indexed-arrays.ipynb): Comprehensive indexing strategies\n\nThe key insight is using **superposition** to blend between array elements rather than discrete selection.",
   "metadata": {}
  },
  {
   "cell_type": "code",
   "execution_count": 2,
   "metadata": {},
   "outputs": [
    {
     "name": "stdout",
     "output_type": "stream",
     "text": [
      "(<tf.Tensor: shape=(3, 3), dtype=float32, numpy=\n",
      "array([[0., 0., 0.],\n",
      "       [0., 0., 0.],\n",
      "       [0., 0., 0.]], dtype=float32)>, <tf.Tensor: shape=(3,), dtype=float32, numpy=array([1., 0., 0.], dtype=float32)>)\n",
      "(<tf.Variable 'Variable:0' shape=(3, 3, 3) dtype=float32, numpy=\n",
      "array([[[0., 0., 0.],\n",
      "        [0., 0., 0.],\n",
      "        [0., 0., 0.]],\n",
      "\n",
      "       [[0., 0., 0.],\n",
      "        [0., 0., 0.],\n",
      "        [0., 0., 0.]],\n",
      "\n",
      "       [[0., 0., 0.],\n",
      "        [0., 0., 0.],\n",
      "        [0., 0., 0.]]], dtype=float32)>, <tf.Variable 'Variable:0' shape=(3,) dtype=float32, numpy=array([1., 0., 0.], dtype=float32)>)\n"
     ]
    }
   ],
   "source": [
    "def new_stack(stack_shape, is_learnable=False):\n",
    "    buffer = tf.zeros(stack_shape, dtype=tf.float32)\n",
    "    index = tf.one_hot(0, stack_shape[0], dtype=tf.float32)\n",
    "    \n",
    "    if is_learnable:\n",
    "        buffer = tf.Variable(buffer)\n",
    "        index = tf.Variable(index)\n",
    "    \n",
    "    stack = (buffer, index)\n",
    "    return stack\n",
    "\n",
    "constant_stack = new_stack((3,3))\n",
    "print(constant_stack)\n",
    "\n",
    "learnable_stack = new_stack((3,3,3), True)\n",
    "print(learnable_stack)"
   ]
  },
  {
   "cell_type": "markdown",
   "execution_count": null,
   "metadata": {},
   "outputs": [],
   "source": "## Stack Push Operation\n\nThe `stack_push` function implements the classic push operation while maintaining differentiability.\n\n### Algorithm\n\n1. **Element insertion**: Use vectorized assignment to place the element at the current index position\n2. **Index update**: Roll the index vector to point to the next position\n3. **Return new state**: Create and return the updated stack\n\n### Stateless Design\n\n**Important**: Our implementation is **stateless**. Each function returns a new stack rather than modifying the input. This design choice is necessary because:\n\n- **TensorFlow Autograph limitations**: Stateful implementations (classes, closures) have undefined behavior in graph mode\n- **Functional purity**: Makes reasoning about gradients and side effects easier\n- **Composability**: Enables clean chaining of operations"
  },
  {
   "cell_type": "markdown",
   "metadata": {},
   "source": [
    "## Soft assignment\n",
    "Tensorflow does not allow direct assignment of array indexes, so we use this trick. For more information go to [bubble-sort.ipynb](bubble-sort.ipynb) or [differentiable-indexed-arrays.ipynb](differentiable-indexed-arrays.ipynb)"
   ]
  },
  {
   "cell_type": "markdown",
   "source": "## Stack Pop Operation\n\nThe `stack_pop` function removes and returns the top element while updating the stack state.\n\n### Algorithm\n\n1. **Index update**: Roll the index to point to the current top element\n2. **Element extraction**: Use superposition lookup to extract the element at the index position  \n3. **Return both**: Return the updated stack state and the popped element\n\n### Differentiable Lookup\n\nWe use `superposition_lookup_vectored` from [differentiable-indexed-arrays.ipynb](differentiable-indexed-arrays.ipynb) to:\n- Extract elements using soft indexing\n- Maintain gradient flow through the lookup operation\n- Handle arbitrary element dimensions",
   "metadata": {}
  },
  {
   "cell_type": "code",
   "execution_count": 4,
   "metadata": {},
   "outputs": [],
   "source": [
    "from library.array_ops import assign_index_vectored, superposition_lookup_vectored"
   ]
  },
  {
   "cell_type": "markdown",
   "source": "## Stack Peek Operation\n\nThe `stack_peek` function allows inspection of the top element without modifying the stack state.",
   "metadata": {}
  },
  {
   "cell_type": "markdown",
   "metadata": {},
   "source": "## Stack push\nThe `stack_push` function is a stateless function. At the time of writing, the Autograph has undefined behaviour if we try to build a stateful implementation of stack like using python class or using closures."
  },
  {
   "cell_type": "markdown",
   "source": "## Application: List Reversal\n\nLet's demonstrate our differentiable stack with a classic algorithm: **reversing a list using two stacks**.\n\n### Algorithm\n\nThis is a fundamental computer science algorithm:\n\n1. **Phase 1**: Push all elements from the input list onto Stack 1\n2. **Phase 2**: Pop all elements from Stack 1 and push them onto Stack 2\n3. **Result**: Stack 2's buffer contains the reversed list\n\n### Why This Works\n\nThe LIFO property of stacks naturally reverses order:\n- Input: `[A, B, C, D]`\n- After Phase 1: Stack 1 = `[D, C, B, A]` (A at bottom)\n- After Phase 2: Stack 2 = `[A, B, C, D]` (A at bottom, but read from top)\n\nThis algorithm demonstrates how complex operations can be built from simple stack primitives while maintaining differentiability.",
   "metadata": {}
  },
  {
   "cell_type": "code",
   "execution_count": 5,
   "metadata": {},
   "outputs": [
    {
     "name": "stdout",
     "output_type": "stream",
     "text": [
      "tf.Tensor(\n",
      "[[1. 1. 1.]\n",
      " [2. 2. 2.]\n",
      " [3. 3. 3.]], shape=(3, 3), dtype=float32)\n",
      "tf.Tensor([1. 0. 0.], shape=(3,), dtype=float32)\n",
      "tf.Tensor(\n",
      "[[1. 1. 1.]\n",
      " [1. 1. 1.]\n",
      " [1. 1. 1.]], shape=(3, 3), dtype=float32)\n",
      "(None, None)\n"
     ]
    }
   ],
   "source": [
    "@tf.function\n",
    "def stack_push(stack, element):\n",
    "    buffer, index = stack\n",
    "    buffer = assign_index_vectored(buffer, index, element)\n",
    "    index = tf.roll(index, shift=1, axis=0)\n",
    "    stack = (buffer, index)\n",
    "    return stack\n",
    "\n",
    "stack = new_stack((3,3))\n",
    "elements = tf.Variable([\n",
    "    [1,1,1],\n",
    "    [2,2,2],\n",
    "    [3,3,3]\n",
    "],dtype=tf.float32)\n",
    "\n",
    "original_stack = stack\n",
    "\n",
    "with tf.GradientTape(persistent=True) as tape:\n",
    "    stack = stack_push(stack, elements[0])\n",
    "    stack = stack_push(stack, elements[1])\n",
    "    stack = stack_push(stack, elements[2])\n",
    "    \n",
    "print(stack[0])\n",
    "print(stack[1])\n",
    "print(tape.gradient(stack[0], elements))\n",
    "print(tape.gradient(stack, original_stack))"
   ]
  },
  {
   "cell_type": "markdown",
   "source": "## Learning Through Inverse Problems\n\nNow for the ultimate test: **can we learn the input to a stack algorithm from its output?**\n\nThis demonstrates the power of differentiable data structures - we can use gradient descent to solve inverse problems that would be impossible with traditional discrete stacks.",
   "metadata": {}
  },
  {
   "cell_type": "markdown",
   "metadata": {},
   "source": [
    "## Stack pop\n",
    "For buffer lookup we use the `superposition_lookup_vectored` as described in [differentiable-indexed-arrays.ipynb](differentiable-indexed-arrays.ipynb). We also update the index and return both state and element."
   ]
  },
  {
   "cell_type": "markdown",
   "source": "### Outstanding Results! 🎉\n\nThe learning experiment succeeded perfectly:\n\n- **Convergence**: Loss decreased from 28 to nearly 0 over 100 iterations\n- **Perfect reconstruction**: The learned input exactly matches the expected result\n- **Final learned input**: `[[1,1,1,1], [2,2,2,2], [3,3,3,3], [4,4,4,4]]`\n\nThis demonstrates the remarkable capability of differentiable stacks: **we can learn the inputs to algorithmic processes from their outputs!**\n\n## Summary\n\nWe successfully implemented differentiable stacks that achieve:\n\n### Key Achievements\n\n- ✅ **Exact stack semantics**: Perfect LIFO behavior with no approximations\n- ✅ **Full differentiability**: Complete gradient flow through all operations\n- ✅ **Algorithmic learning**: Ability to learn inputs from algorithmic outputs\n- ✅ **Stateless design**: Clean functional programming interface\n- ✅ **Scalable**: Works with arbitrary element dimensions and stack sizes\n\n### Technical Innovations\n\n- **Soft indexing**: One-hot vectors enable differentiable addressing\n- **Superposition lookup**: Smooth element extraction and assignment\n- **Stateless operations**: Each function returns new state rather than mutation\n- **Gradient preservation**: Perfect gradient flow through complex algorithms\n\n### Applications\n\nThis framework enables numerous applications:\n\n- **Neural Turing Machines**: Learnable external memory\n- **Stack-augmented RNNs**: Learning algorithmic patterns\n- **Program synthesis**: Learning stack-based algorithms\n- **Inverse problems**: Reconstructing inputs from algorithmic outputs\n- **Differentiable parsing**: Trainable syntax analysis\n- **Algorithm learning**: End-to-end learning of stack-based procedures\n\n### Future Directions\n\nPotential extensions:\n- **Nested stacks**: Stacks of stacks for hierarchical processing\n- **Mixed operations**: Combining stacks with other differentiable data structures\n- **Attention mechanisms**: Learnable stack access patterns\n- **Memory management**: Dynamic stack size adaptation\n- **Multi-stack coordination**: Learning algorithms that use multiple stacks\n\nDifferentiable stacks represent a powerful bridge between classical algorithms and modern neural networks, enabling systems that can learn algorithmic reasoning through gradient descent!",
   "metadata": {}
  },
  {
   "cell_type": "markdown",
   "source": "### Inverse Learning Experiment\n\n**Problem**: Given the reversed output `[[4,4,4,4], [3,3,3,3], [2,2,2,2], [1,1,1,1]]`, can the system learn the original input that produces this result?\n\n**Setup**:\n- **Unknown input**: Start with uniform values `[[1,1,1,1], [1,1,1,1], [1,1,1,1], [1,1,1,1]]`\n- **Known output**: Target reversed result\n- **Learning objective**: Minimize L2 loss between predicted and target reversed arrays\n- **Optimization**: Adam optimizer updates the input array",
   "metadata": {}
  },
  {
   "cell_type": "code",
   "execution_count": 6,
   "metadata": {},
   "outputs": [
    {
     "name": "stdout",
     "output_type": "stream",
     "text": [
      "tf.Tensor([3. 3. 3.], shape=(3,), dtype=float32)\n",
      "tf.Tensor([2. 2. 2.], shape=(3,), dtype=float32)\n",
      "tf.Tensor(\n",
      "[[1. 1. 1.]\n",
      " [2. 2. 2.]\n",
      " [3. 3. 3.]], shape=(3, 3), dtype=float32)\n",
      "tf.Tensor([0. 1. 0.], shape=(3,), dtype=float32)\n",
      "None\n"
     ]
    }
   ],
   "source": [
    "@tf.function\n",
    "def stack_pop(stack):\n",
    "    buffer, index = stack\n",
    "    index = tf.roll(index, shift=-1, axis=0)\n",
    "    element = superposition_lookup_vectored(buffer, index)\n",
    "    stack = (buffer, index)\n",
    "    return stack, element\n",
    "\n",
    "buffer = tf.Variable([\n",
    "    [1,1,1],\n",
    "    [2,2,2],\n",
    "    [3,3,3]\n",
    "],dtype=tf.float32)\n",
    "stack = new_stack_from_buffer(buffer, True)\n",
    "\n",
    "with tf.GradientTape() as tape:\n",
    "    ns1, element = stack_pop(stack)\n",
    "    print(element)\n",
    "    ns2, element = stack_pop(ns1)\n",
    "    print(element)\n",
    "\n",
    "print(ns2[0])\n",
    "print(ns2[1])\n",
    "print(tape.gradient(element, buffer))"
   ]
  },
  {
   "cell_type": "markdown",
   "metadata": {},
   "source": [
    "## Stack peek\n",
    "\n",
    "Get the stack top without any modification"
   ]
  },
  {
   "cell_type": "code",
   "execution_count": 7,
   "metadata": {},
   "outputs": [
    {
     "name": "stdout",
     "output_type": "stream",
     "text": [
      "tf.Tensor([3. 3. 3.], shape=(3,), dtype=float32)\n",
      "None\n"
     ]
    }
   ],
   "source": [
    "@tf.function\n",
    "def stack_peek(stack):\n",
    "    buffer, index = stack\n",
    "    index = tf.roll(index, shift=-1, axis=0)\n",
    "    element = superposition_lookup_vectored(buffer, index)\n",
    "    return element\n",
    "\n",
    "buffer = tf.Variable([\n",
    "    [1,1,1],\n",
    "    [2,2,2],\n",
    "    [3,3,3]\n",
    "],dtype=tf.float32)\n",
    "stack = new_stack_from_buffer(buffer, True)\n",
    "\n",
    "with tf.GradientTape() as tape:\n",
    "    element = stack_peek(stack)\n",
    "\n",
    "print(element)\n",
    "print(tape.gradient(element, buffer))"
   ]
  },
  {
   "cell_type": "markdown",
   "metadata": {},
   "source": [
    "## Toy example: Reversing a list\n",
    "Using two stacks, we can reverse a list. The algorithm has two steps\n",
    "* Stack 1 pushes all elements into itself\n",
    "* Stack 1 then pops an element and Stack 2 pushes that element into itself\n",
    "\n",
    "The buffer of Stack 2 is the solution"
   ]
  },
  {
   "cell_type": "code",
   "execution_count": 8,
   "metadata": {},
   "outputs": [
    {
     "name": "stdout",
     "output_type": "stream",
     "text": [
      "tf.Tensor(\n",
      "[[4. 4. 4. 4.]\n",
      " [3. 3. 3. 3.]\n",
      " [2. 2. 2. 2.]\n",
      " [1. 1. 1. 1.]], shape=(4, 4), dtype=float32)\n",
      "tf.Tensor(\n",
      "[[1. 1. 1. 1.]\n",
      " [1. 1. 1. 1.]\n",
      " [1. 1. 1. 1.]\n",
      " [1. 1. 1. 1.]], shape=(4, 4), dtype=float32)\n"
     ]
    }
   ],
   "source": [
    "@tf.function\n",
    "def reverse_list(arr):\n",
    "    arr_shape = tf.shape(arr)\n",
    "    arr = tf.unstack(arr)\n",
    "    \n",
    "    stack1 = new_stack(arr_shape)\n",
    "    \n",
    "    # Step 1: Push all elements into stack 1\n",
    "    for element in arr:\n",
    "        stack1 = stack_push(stack1, element)\n",
    "    \n",
    "    stack2 = new_stack(arr_shape)\n",
    "    \n",
    "    # Step 2: Transfer all elements to stack 2\n",
    "    for _ in tf.range(arr_shape[0]):\n",
    "        stack1, element = stack_pop(stack1)\n",
    "        stack2 = stack_push(stack2, element)\n",
    "    \n",
    "    # Return buffer of stack 2\n",
    "    return stack2[0]\n",
    "\n",
    "arr = tf.Variable([\n",
    "    [1,1,1,1],\n",
    "    [2,2,2,2],\n",
    "    [3,3,3,3],\n",
    "    [4,4,4,4],\n",
    "], dtype=tf.float32)\n",
    "\n",
    "with tf.GradientTape() as tape:\n",
    "    new_arr = reverse_list(arr)\n",
    "\n",
    "print(new_arr)\n",
    "print(tape.gradient(new_arr, arr))"
   ]
  },
  {
   "cell_type": "markdown",
   "metadata": {},
   "source": [
    "## Backward pass\n",
    "To demonstrate the working of backward pass, we give a reversed target array `reversed_arr` to the algorithm and a learnable `input_arr`. The algorithm must learn the `input_arr` using gradients."
   ]
  },
  {
   "cell_type": "code",
   "execution_count": 9,
   "metadata": {},
   "outputs": [
    {
     "name": "stdout",
     "output_type": "stream",
     "text": [
      "28\n",
      "10.2250357\n",
      "2.75192738\n",
      "0.439089298\n",
      "0.129742727\n",
      "0.0685746\n",
      "0.0525279418\n",
      "0.0155251706\n",
      "0.000200064795\n",
      "0.00172046362\n",
      "[[1 1 1 1]\n",
      " [2 2 2 2]\n",
      " [3 3 3 3]\n",
      " [4 4 4 4]]\n"
     ]
    }
   ],
   "source": [
    "opt = tf.keras.optimizers.Adam(1e-1)\n",
    "\n",
    "@tf.function\n",
    "def train_step(x, y):\n",
    "    with tf.GradientTape() as tape:\n",
    "        y_ = reverse_list(x)\n",
    "        loss = tf.nn.l2_loss(y - y_)\n",
    "        \n",
    "    grads = tape.gradient(loss, x)\n",
    "    opt.apply_gradients(zip([grads], [x]))\n",
    "    \n",
    "    return loss\n",
    "\n",
    "input_arr = tf.Variable([\n",
    "    [1,1,1,1],\n",
    "    [1,1,1,1],\n",
    "    [1,1,1,1],\n",
    "    [1,1,1,1]\n",
    "], dtype=tf.float32)\n",
    "reversed_arr = tf.constant([\n",
    "    [4,4,4,4],\n",
    "    [3,3,3,3],\n",
    "    [2,2,2,2],\n",
    "    [1,1,1,1],\n",
    "], dtype=tf.float32)\n",
    "\n",
    "for i in range(100):\n",
    "    loss = train_step(input_arr, reversed_arr)\n",
    "    if i % 10 == 0:\n",
    "        tf.print(loss)\n",
    "tf.print(tf.round(input_arr))"
   ]
  },
  {
   "cell_type": "code",
   "execution_count": null,
   "metadata": {},
   "outputs": [],
   "source": []
  }
 ],
 "metadata": {
  "kernelspec": {
   "display_name": "Python 3.7.6 64-bit",
   "language": "python",
   "name": "python37664bit238183a89ccd4c25acc508071275f29e"
  },
  "language_info": {
   "codemirror_mode": {
    "name": "ipython",
    "version": 3
   },
   "file_extension": ".py",
   "mimetype": "text/x-python",
   "name": "python",
   "nbconvert_exporter": "python",
   "pygments_lexer": "ipython3",
   "version": "3.7.6"
  }
 },
 "nbformat": 4,
 "nbformat_minor": 4
}
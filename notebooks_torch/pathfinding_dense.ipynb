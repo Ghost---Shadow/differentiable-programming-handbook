{
 "cells": [
  {
   "cell_type": "code",
   "execution_count": 1,
   "id": "1f0f0790",
   "metadata": {},
   "outputs": [],
   "source": [
    "import torch\n",
    "import torch.nn as nn\n",
    "import torch.optim as optim"
   ]
  },
  {
   "cell_type": "code",
   "execution_count": null,
   "id": "94686b07",
   "metadata": {},
   "outputs": [
    {
     "data": {
      "text/plain": [
       "tensor([[0., 1., 0., 0., 1.],\n",
       "        [1., 0., 0., 1., 1.],\n",
       "        [0., 0., 0., 1., 0.],\n",
       "        [0., 1., 1., 0., 1.],\n",
       "        [1., 1., 0., 1., 0.]])"
      ]
     },
     "execution_count": 2,
     "metadata": {},
     "output_type": "execute_result"
    }
   ],
   "source": [
    "# CLRS page 590 but I removed 2-3 edge\n",
    "adjacency_matrix = torch.tensor(\n",
    "    [\n",
    "        [0, 1, 0, 0, 1],\n",
    "        [1, 0, 0, 1, 1],\n",
    "        [0, 0, 0, 1, 0],\n",
    "        [0, 1, 1, 0, 1],\n",
    "        [1, 1, 0, 1, 0],\n",
    "    ],\n",
    "    dtype=torch.float32,\n",
    ")\n",
    "adjacency_matrix"
   ]
  },
  {
   "cell_type": "code",
   "execution_count": 3,
   "id": "fe964906",
   "metadata": {},
   "outputs": [
    {
     "name": "stdout",
     "output_type": "stream",
     "text": [
      "Epoch 0, Loss: 0.1944\n",
      "Epoch 100, Loss: 0.1207\n",
      "Epoch 200, Loss: 0.0000\n",
      "Epoch 300, Loss: 0.0000\n",
      "Epoch 400, Loss: 0.0000\n",
      "Epoch 500, Loss: 0.0000\n",
      "Epoch 600, Loss: 0.0000\n",
      "Epoch 700, Loss: 0.0000\n",
      "Epoch 800, Loss: 0.0000\n",
      "Epoch 900, Loss: 0.0000\n",
      "\n",
      "Final state (0): tensor([-8.9432e-08,  1.7890e-07,  1.0000e+00, -8.9432e-08,  1.7881e-07],\n",
      "       grad_fn=<MvBackward0>)\n",
      "Step 1 (0) probs: tensor([0.9725, 0.2000, 0.2000, 0.2000, 0.2000])\n",
      "Step 2 (1) probs: tensor([0.2000, 0.7019, 0.2000, 0.2000, 0.7019])\n",
      "Step 3 (3) probs: tensor([-7.3255e-01, -4.3828e-08,  2.0000e-01,  7.3256e-01, -8.7199e-08])\n"
     ]
    }
   ],
   "source": [
    "# Starting node (one-hot)\n",
    "start = torch.tensor([1.0, 0.0, 0.0, 0.0, 0.0])\n",
    "\n",
    "# Target node (one-hot)\n",
    "target = torch.tensor([0.0, 0.0, 1.0, 0.0, 0.0])\n",
    "\n",
    "# 3 transition probability vectors (learnable parameters)\n",
    "step1 = nn.Parameter(torch.tensor([0.2, 0.2, 0.2, 0.2, 0.2]))\n",
    "step2 = nn.Parameter(torch.tensor([0.2, 0.2, 0.2, 0.2, 0.2]))\n",
    "step3 = nn.Parameter(torch.tensor([0.2, 0.2, 0.2, 0.2, 0.2]))\n",
    "\n",
    "optimizer = optim.SGD([step1, step2, step3], lr=0.1)\n",
    "\n",
    "# Training loop\n",
    "for epoch in range(1000):\n",
    "    optimizer.zero_grad()\n",
    "\n",
    "    # Forward pass: apply transitions\n",
    "    state = start\n",
    "    state = adjacency_matrix @ (state * step1)\n",
    "    state = adjacency_matrix @ (state * step2)\n",
    "    state = adjacency_matrix @ (state * step3)\n",
    "\n",
    "    # Loss: MSE to target\n",
    "    loss = nn.MSELoss()(state, target)\n",
    "\n",
    "    # Backward pass\n",
    "    loss.backward()\n",
    "    optimizer.step()\n",
    "\n",
    "    if epoch % 100 == 0:\n",
    "        print(f\"Epoch {epoch}, Loss: {loss.item():.4f}\")\n",
    "\n",
    "print(f\"\\nFinal state ({torch.argmax(step1.data)}): {state}\")\n",
    "print(f\"Step 1 ({torch.argmax(step1.data)}) probs: {step1.data}\")\n",
    "print(f\"Step 2 ({torch.argmax(step2.data)}) probs: {step2.data}\")\n",
    "print(f\"Step 3 ({torch.argmax(step3.data)}) probs: {step3.data}\")"
   ]
  },
  {
   "cell_type": "code",
   "execution_count": null,
   "id": "2e9bfe46",
   "metadata": {},
   "outputs": [],
   "source": []
  }
 ],
 "metadata": {
  "kernelspec": {
   "display_name": "base",
   "language": "python",
   "name": "python3"
  },
  "language_info": {
   "codemirror_mode": {
    "name": "ipython",
    "version": 3
   },
   "file_extension": ".py",
   "mimetype": "text/x-python",
   "name": "python",
   "nbconvert_exporter": "python",
   "pygments_lexer": "ipython3",
   "version": "3.11.11"
  }
 },
 "nbformat": 4,
 "nbformat_minor": 5
}

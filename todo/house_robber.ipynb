{
 "cells": [
  {
   "cell_type": "code",
   "execution_count": 1,
   "metadata": {},
   "outputs": [],
   "source": [
    "import tensorflow as tf"
   ]
  },
  {
   "cell_type": "code",
   "execution_count": 2,
   "metadata": {},
   "outputs": [
    {
     "data": {
      "text/plain": [
       "[PhysicalDevice(name='/physical_device:GPU:0', device_type='GPU')]"
      ]
     },
     "execution_count": 2,
     "metadata": {},
     "output_type": "execute_result"
    }
   ],
   "source": [
    "tf.config.list_physical_devices('GPU')"
   ]
  },
  {
   "cell_type": "code",
   "execution_count": 3,
   "metadata": {},
   "outputs": [
    {
     "name": "stdout",
     "output_type": "stream",
     "text": [
      "z\t= 9.0\n",
      "dz/dx\t= [1. 0. 1. 0. 1.]\n",
      "dL/dx\t= [-1.  0. -1.  0. -1.]\n"
     ]
    }
   ],
   "source": [
    "def rob(nums):\n",
    "  max_val = tf.constant(0, dtype=tf.float32)\n",
    "  prev = tf.constant(0, dtype=tf.float32)\n",
    "  prev_prev = tf.constant(0, dtype=tf.float32)\n",
    "\n",
    "  x_len = nums.shape[0]\n",
    "\n",
    "  for i in tf.range(x_len):\n",
    "    num = nums[i]\n",
    "    cur = tf.maximum(num + prev_prev, prev)\n",
    "    max_val = tf.maximum(max_val, cur)\n",
    "    prev, prev_prev = cur, prev\n",
    "\n",
    "  return max_val\n",
    "\n",
    "arr = tf.constant([1,2,3,4,5], dtype=tf.float32)\n",
    "\n",
    "with tf.GradientTape(persistent=True) as tape:\n",
    "    tape.watch(arr)\n",
    "    z = rob(arr)\n",
    "    loss = tf.nn.l2_loss(10 - z)\n",
    "\n",
    "tf.print(f'z\\t= {z}')\n",
    "tf.print(f'dz/dx\\t= {tape.gradient(z, arr)}')\n",
    "tf.print(f'dL/dx\\t= {tape.gradient(loss, arr)}')\n"
   ]
  }
 ],
 "metadata": {
  "interpreter": {
   "hash": "f1d83f9e8f5c8837e86d6304fd35fdd4149e22cdc219dfc99f4444b7e631426b"
  },
  "kernelspec": {
   "display_name": "Python 3.7.6 64-bit",
   "language": "python",
   "name": "python3"
  },
  "language_info": {
   "codemirror_mode": {
    "name": "ipython",
    "version": 3
   },
   "file_extension": ".py",
   "mimetype": "text/x-python",
   "name": "python",
   "nbconvert_exporter": "python",
   "pygments_lexer": "ipython3",
   "version": "3.7.6"
  },
  "orig_nbformat": 4
 },
 "nbformat": 4,
 "nbformat_minor": 2
}
